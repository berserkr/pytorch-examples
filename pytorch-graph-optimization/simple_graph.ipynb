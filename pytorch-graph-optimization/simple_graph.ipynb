{
 "cells": [
  {
   "cell_type": "code",
   "execution_count": 18,
   "id": "ce2c58ad-9933-4efc-9101-5dfba7421475",
   "metadata": {
    "tags": []
   },
   "outputs": [],
   "source": [
    "import torch\n",
    "from torch import nn\n",
    "import numpy as np\n",
    "device = torch.device(\"cuda\") if torch.cuda.is_available() else \"cpu\""
   ]
  },
  {
   "cell_type": "code",
   "execution_count": 2,
   "id": "8653d4a3-336a-4d06-a4b1-ce970691e86d",
   "metadata": {
    "tags": []
   },
   "outputs": [],
   "source": [
    "!rm -rf torch_compile_debug"
   ]
  },
  {
   "cell_type": "code",
   "execution_count": 20,
   "id": "0e74876f-3172-4fd6-b84e-6634ffc8f701",
   "metadata": {
    "tags": []
   },
   "outputs": [],
   "source": [
    "# def fn(x):\n",
    "#     return x**2 + 2*x + 1\n",
    "\n",
    "class Model(nn.Module):\n",
    "    def __init__(self):\n",
    "        super().__init__()\n",
    "        self.fc1 = nn.Linear(10, 5)\n",
    "        self.fc2 = nn.Linear(5, 1)\n",
    "        \n",
    "    def forward(self, x):\n",
    "        return self.fc2(self.fc1(x))"
   ]
  },
  {
   "cell_type": "code",
   "execution_count": 21,
   "id": "b3b0aa11-6ea4-4465-ba5b-ccd43ab9d6cf",
   "metadata": {
    "tags": []
   },
   "outputs": [
    {
     "name": "stderr",
     "output_type": "stream",
     "text": [
      "[2023-03-21 07:38:43,245] torch._inductor.debug: [WARNING] model__5_forward_16 debug trace: /pytorch-examples/pytorch-graph-optim/torch_compile_debug/run_2023_03_21_07_29_30_778184-pid_24890/aot_torchinductor/model__5_forward_16.10\n",
      "[2023-03-21 07:38:43,265] torch._inductor.debug: [WARNING] model__5_backward_17 debug trace: /pytorch-examples/pytorch-graph-optim/torch_compile_debug/run_2023_03_21_07_29_30_778184-pid_24890/aot_torchinductor/model__5_backward_17.11\n"
     ]
    },
    {
     "name": "stdout",
     "output_type": "stream",
     "text": [
      "Writing FX graph to file: /pytorch-examples/pytorch-graph-optim/torch_compile_debug/run_2023_03_21_07_29_30_778184-pid_24890/aot_torchinductor/model__5_forward_16.10/graph_diagram.svg\n",
      "Writing FX graph to file: /pytorch-examples/pytorch-graph-optim/torch_compile_debug/run_2023_03_21_07_29_30_778184-pid_24890/aot_torchinductor/model__5_backward_17.11/graph_diagram.svg\n"
     ]
    }
   ],
   "source": [
    "fn = Model().to(device)\n",
    "\n",
    "fn_compiled = torch.compile(fn, backend=\"inductor\", \n",
    "                       options={'trace.graph_diagram':True,\n",
    "                                'trace.enabled':True})\n",
    "x = torch.rand(10)\n",
    "out = fn_compiled(x.to(device)).sum().backward()"
   ]
  },
  {
   "cell_type": "code",
   "execution_count": 9,
   "id": "a1481da9-794f-4c3b-bb3c-fb6cf2796e86",
   "metadata": {
    "tags": []
   },
   "outputs": [
    {
     "name": "stdout",
     "output_type": "stream",
     "text": [
      "\n",
      "\n",
      "\n",
      "def forward(self, x):\n",
      "    pow_1 = x ** 2\n",
      "    mul = 2 * x;  x = None\n",
      "    add = pow_1 + mul;  pow_1 = mul = None\n",
      "    add_1 = add + 1;  add = None\n",
      "    return add_1\n",
      "    \n"
     ]
    }
   ],
   "source": [
    "from torch.fx import passes, symbolic_trace\n",
    "model = symbolic_trace(fn)\n",
    "\n",
    "g = passes.graph_drawer.FxGraphDrawer(model, 'fn')\n",
    "with open(\"unoptimized_graph1.svg\", \"wb\") as f:\n",
    "    f.write(g.get_dot_graph().create_svg())\n",
    "    \n",
    "print(model.code)"
   ]
  },
  {
   "cell_type": "code",
   "execution_count": null,
   "id": "d8f2d7b5-737f-4660-acff-0e99fb1b03ab",
   "metadata": {},
   "outputs": [],
   "source": []
  }
 ],
 "metadata": {
  "kernelspec": {
   "display_name": "Python 3 (ipykernel)",
   "language": "python",
   "name": "python3"
  },
  "language_info": {
   "codemirror_mode": {
    "name": "ipython",
    "version": 3
   },
   "file_extension": ".py",
   "mimetype": "text/x-python",
   "name": "python",
   "nbconvert_exporter": "python",
   "pygments_lexer": "ipython3",
   "version": "3.10.9"
  }
 },
 "nbformat": 4,
 "nbformat_minor": 5
}
