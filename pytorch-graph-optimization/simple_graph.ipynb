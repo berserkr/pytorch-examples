{
 "cells": [
  {
   "cell_type": "code",
   "execution_count": 1,
   "id": "ce2c58ad-9933-4efc-9101-5dfba7421475",
   "metadata": {
    "tags": []
   },
   "outputs": [],
   "source": [
    "import torch\n",
    "from torch import nn\n",
    "import numpy as np\n",
    "device = torch.device(\"cuda\") if torch.cuda.is_available() else \"cpu\""
   ]
  },
  {
   "cell_type": "code",
   "execution_count": 2,
   "id": "0e74876f-3172-4fd6-b84e-6634ffc8f701",
   "metadata": {
    "tags": []
   },
   "outputs": [],
   "source": [
    "def fn(x):\n",
    "    rosen=0.\n",
    "    for i in range(x.numel()-1):\n",
    "        rosen+=100*(x[i+1] - x[i]**2)**2 + (1 - x[i])**2\n",
    "    return rosen"
   ]
  },
  {
   "cell_type": "code",
   "execution_count": 3,
   "id": "804c417b-385b-4f82-bb91-a403bd60a31e",
   "metadata": {
    "tags": []
   },
   "outputs": [
    {
     "name": "stderr",
     "output_type": "stream",
     "text": [
      "[2023-03-22 19:58:18,599] torch._inductor.debug: [WARNING] model__0_forward_1 debug trace: /pytorch-examples/pytorch-graph-optimization/torch_compile_debug/run_2023_03_22_19_58_18_507442-pid_1882/aot_torchinductor/model__0_forward_1.0\n"
     ]
    },
    {
     "name": "stdout",
     "output_type": "stream",
     "text": [
      "Writing FX graph to file: /pytorch-examples/pytorch-graph-optimization/torch_compile_debug/run_2023_03_22_19_58_18_507442-pid_1882/aot_torchinductor/model__0_forward_1.0/graph_diagram.svg\n",
      "Writing FX graph to file: /pytorch-examples/pytorch-graph-optimization/torch_compile_debug/run_2023_03_22_19_58_18_507442-pid_1882/aot_torchinductor/model__0_backward_2.1/graph_diagram.svg\n"
     ]
    },
    {
     "name": "stderr",
     "output_type": "stream",
     "text": [
      "[2023-03-22 19:58:18,755] torch._inductor.debug: [WARNING] model__0_backward_2 debug trace: /pytorch-examples/pytorch-graph-optimization/torch_compile_debug/run_2023_03_22_19_58_18_507442-pid_1882/aot_torchinductor/model__0_backward_2.1\n"
     ]
    }
   ],
   "source": [
    "!rm -rf torch_compile_debug\n",
    "fn_compiled = torch.compile(fn, backend=\"inductor\", \n",
    "                       options={'trace.graph_diagram':True,\n",
    "                                'trace.enabled':True})\n",
    "x = torch.rand(5, requires_grad=True)\n",
    "out = fn_compiled(x.to(device)).sum().backward()"
   ]
  },
  {
   "cell_type": "code",
   "execution_count": 9,
   "id": "a1481da9-794f-4c3b-bb3c-fb6cf2796e86",
   "metadata": {
    "tags": []
   },
   "outputs": [
    {
     "name": "stdout",
     "output_type": "stream",
     "text": [
      "\n",
      "\n",
      "\n",
      "def forward(self, x):\n",
      "    pow_1 = x ** 2\n",
      "    mul = 2 * x;  x = None\n",
      "    add = pow_1 + mul;  pow_1 = mul = None\n",
      "    add_1 = add + 1;  add = None\n",
      "    return add_1\n",
      "    \n"
     ]
    }
   ],
   "source": [
    "from torch.fx import passes, symbolic_trace\n",
    "model = symbolic_trace(fn)\n",
    "\n",
    "g = passes.graph_drawer.FxGraphDrawer(model, 'fn')\n",
    "with open(\"unoptimized_graph1.svg\", \"wb\") as f:\n",
    "    f.write(g.get_dot_graph().create_svg())\n",
    "    \n",
    "print(model.code)"
   ]
  },
  {
   "cell_type": "code",
   "execution_count": null,
   "id": "d8f2d7b5-737f-4660-acff-0e99fb1b03ab",
   "metadata": {},
   "outputs": [],
   "source": []
  }
 ],
 "metadata": {
  "kernelspec": {
   "display_name": "Python 3 (ipykernel)",
   "language": "python",
   "name": "python3"
  },
  "language_info": {
   "codemirror_mode": {
    "name": "ipython",
    "version": 3
   },
   "file_extension": ".py",
   "mimetype": "text/x-python",
   "name": "python",
   "nbconvert_exporter": "python",
   "pygments_lexer": "ipython3",
   "version": "3.10.9"
  }
 },
 "nbformat": 4,
 "nbformat_minor": 5
}
