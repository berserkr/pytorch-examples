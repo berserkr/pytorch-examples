{
 "cells": [
  {
   "cell_type": "code",
   "execution_count": 23,
   "id": "5d6e3e3a-885e-4e26-81c7-897dc941120a",
   "metadata": {
    "tags": []
   },
   "outputs": [],
   "source": [
    "!rm -rf torch_compile_debug"
   ]
  },
  {
   "cell_type": "code",
   "execution_count": 19,
   "id": "b9fe79ed-0970-4b13-a6ac-4fc4f3c2e628",
   "metadata": {
    "tags": []
   },
   "outputs": [],
   "source": [
    "import torch.utils.benchmark as benchmark\n",
    "import torch\n",
    "from torchvision.models import resnet\n",
    "import torch._dynamo\n",
    "\n",
    "device = torch.device(\"cuda\") if torch.cuda.is_available() else \"cpu\""
   ]
  },
  {
   "cell_type": "code",
   "execution_count": 20,
   "id": "3bbdc444-058e-4439-9ee7-121fd962af1a",
   "metadata": {
    "tags": []
   },
   "outputs": [],
   "source": [
    "def run_batch_inference(model, batch=1):\n",
    "    x = torch.randn(batch, 3, 224, 224).to(device)\n",
    "    model(x)\n",
    "\n",
    "def run_batch_train(model, optimizer, batch=16):\n",
    "    x = torch.randn(batch, 3, 224, 224).to(device)\n",
    "    optimizer.zero_grad()\n",
    "    out = model(x)\n",
    "    out.sum().backward()\n",
    "    optimizer.step()\n",
    "    \n",
    "model = resnet.resnet18(weights=resnet.ResNet18_Weights.IMAGENET1K_V1).to(device)"
   ]
  },
  {
   "cell_type": "code",
   "execution_count": 22,
   "id": "7dfab6b2-57da-4bad-a8f1-af5df0c9e49f",
   "metadata": {
    "tags": []
   },
   "outputs": [
    {
     "name": "stderr",
     "output_type": "stream",
     "text": [
      "[2023-03-21 07:56:49,304] torch._inductor.debug: [WARNING] model__15_forward_25 debug trace: /pytorch-examples/pytorch-graph-optim/torch_compile_debug/run_2023_03_21_07_49_09_212386-pid_25659/aot_torchinductor/model__15_forward_25.10\n"
     ]
    },
    {
     "name": "stdout",
     "output_type": "stream",
     "text": [
      "Inference speedup:  1.96%\n"
     ]
    }
   ],
   "source": [
    "batch = 1\n",
    "torch._dynamo.reset()\n",
    "compiled_model = torch.compile(model, options={'triton.cudagraphs': False,\n",
    "                                              'trace.enabled':True})\n",
    "\n",
    "t_model = benchmark.Timer(\n",
    "    stmt='run_batch_inference(model, batch)',\n",
    "    setup='from __main__ import run_batch_inference',\n",
    "    globals={'model': model, 'batch':batch})\n",
    "\n",
    "t_compiled_model = benchmark.Timer(\n",
    "    stmt='run_batch_inference(model, batch)',\n",
    "    setup='from __main__ import run_batch_inference',\n",
    "    globals={'model': compiled_model, 'batch':batch})\n",
    "\n",
    "t_model_runs = t_model.timeit(100)\n",
    "t_compiled_model_runs = t_compiled_model.timeit(100)\n",
    "\n",
    "print(f\"Inference speedup: {100*(t_model_runs.mean - t_compiled_model_runs.mean) / t_model_runs.mean: .2f}%\")"
   ]
  },
  {
   "cell_type": "code",
   "execution_count": 4,
   "id": "bdf99896-0fe4-4b65-a1ed-13296a81c221",
   "metadata": {
    "tags": []
   },
   "outputs": [
    {
     "name": "stdout",
     "output_type": "stream",
     "text": [
      "<torch.utils.benchmark.utils.common.Measurement object at 0x7f9db1e1ae30>\n",
      "run_batch_train(model, optimizer, batch)\n",
      "setup: from __main__ import run_batch_train\n",
      "  37.30 ms\n",
      "  1 measurement, 100 runs , 1 thread\n",
      "<torch.utils.benchmark.utils.common.Measurement object at 0x7f9db1d97f10>\n",
      "run_batch_train(model, optimizer, batch)\n",
      "setup: from __main__ import run_batch_train\n",
      "  34.57 ms\n",
      "  1 measurement, 100 runs , 1 thread\n",
      "Training speedup:  7.32%\n"
     ]
    }
   ],
   "source": [
    "batch = 32\n",
    "torch._dynamo.reset()\n",
    "compiled_model = torch.compile(model)\n",
    "optimizer = torch.optim.SGD(model.parameters(), lr=0.01)\n",
    "\n",
    "t_model = benchmark.Timer(\n",
    "    stmt='run_batch_train(model, optimizer, batch)',\n",
    "    setup='from __main__ import run_batch_train',\n",
    "    globals={'model': model,'optimizer':optimizer, 'batch':batch})\n",
    "\n",
    "t_compiled_model = benchmark.Timer(\n",
    "    stmt='run_batch_train(model, optimizer, batch)',\n",
    "    setup='from __main__ import run_batch_train',\n",
    "    globals={'model': compiled_model, 'optimizer':optimizer, 'batch':batch})\n",
    "\n",
    "t_model_runs = t_model.timeit(100)\n",
    "t_compiled_model_runs = t_compiled_model.timeit(100)\n",
    "\n",
    "print(t_model_runs)\n",
    "print(t_compiled_model_runs)\n",
    "\n",
    "print(f\"Training speedup: {100*(t_model_runs.mean - t_compiled_model_runs.mean) / t_model_runs.mean: .2f}%\")"
   ]
  },
  {
   "cell_type": "code",
   "execution_count": null,
   "id": "bf10e32d-b29f-4df1-af18-6dadcccc9a98",
   "metadata": {},
   "outputs": [],
   "source": []
  }
 ],
 "metadata": {
  "kernelspec": {
   "display_name": "Python 3 (ipykernel)",
   "language": "python",
   "name": "python3"
  },
  "language_info": {
   "codemirror_mode": {
    "name": "ipython",
    "version": 3
   },
   "file_extension": ".py",
   "mimetype": "text/x-python",
   "name": "python",
   "nbconvert_exporter": "python",
   "pygments_lexer": "ipython3",
   "version": "3.10.9"
  }
 },
 "nbformat": 4,
 "nbformat_minor": 5
}
