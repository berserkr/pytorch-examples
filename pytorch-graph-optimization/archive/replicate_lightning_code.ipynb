{
 "cells": [
  {
   "cell_type": "code",
   "execution_count": null,
   "id": "ced9cee6-a779-4de1-93e7-a4e171ee25a6",
   "metadata": {},
   "outputs": [],
   "source": [
    "import time\n",
    "import torch\n",
    "import math\n",
    "from torchvision.models import resnet\n",
    "import numpy as np\n",
    "import torch._dynamo\n",
    "\n",
    "torch._dynamo.reset()\n",
    "device = torch.device(\"cuda\") if torch.cuda.is_available() else \"cpu\"\n",
    "\n",
    "def run_batch_inference(model, batch=1):\n",
    "    x = torch.randn(batch, 3, 224, 224).to(device)\n",
    "    model(x)\n",
    "\n",
    "model = resnet.resnet50(weights=resnet.ResNet50_Weights.IMAGENET1K_V1).to(device)\n",
    "optimizer = torch.optim.SGD(model.parameters(), lr=0.01)\n",
    "batch = 1\n",
    "compiled_model = torch.compile(model, mode=\"reduce-overhead\")\n",
    "\n",
    "times_model = []\n",
    "model(torch.randn(batch, 3, 224, 224).to(device))\n",
    "for i in range(50):\n",
    "    start_time = time.time()\n",
    "    run_batch_inference(model, batch)\n",
    "    times_model.append(time.time()-start_time)\n",
    "\n",
    "compiled_model(torch.randn(batch, 3, 224, 224).to(device))\n",
    "times_compiled_model = []\n",
    "for i in range(50):\n",
    "    start_time = time.time()\n",
    "    run_batch_inference(compiled_model, batch)\n",
    "    times_compiled_model.append(time.time()-start_time)\n",
    "\n",
    "speedup = 100*(np.mean(times_model) - np.mean(times_compiled_model)) / np.mean(times_model)\n",
    "\n",
    "print(f\"Speedup: {speedup: .2f}%\")\n",
    "print(f\"Average inference time model: {np.mean(times_model)}\")\n",
    "print(f\"Average inference time compiled model: {np.mean(times_compiled_model)}\")"
   ]
  },
  {
   "cell_type": "code",
   "execution_count": 1,
   "id": "27dcf565-0b65-46b3-9bdf-de5519fc7a4c",
   "metadata": {
    "tags": []
   },
   "outputs": [],
   "source": [
    "import time\n",
    "import numpy as np\n",
    "\n",
    "def benchmark_inference(model, trials=50):\n",
    "    # warmup\n",
    "    model(torch.randn(1, 3, 224, 224).to(device))\n",
    "\n",
    "    t0 = time.time()\n",
    "    for i in range(trials):\n",
    "        x = torch.randn(1, 3, 224, 224).to(device)\n",
    "        model(x)\n",
    "    t1 = time.time()\n",
    "    return (t1 - t0) / trials"
   ]
  },
  {
   "cell_type": "code",
   "execution_count": 2,
   "id": "a2b9fb82-400e-4693-ab79-45fbb9beeac5",
   "metadata": {
    "tags": []
   },
   "outputs": [
    {
     "name": "stdout",
     "output_type": "stream",
     "text": [
      "0.00666710376739502\n",
      "0.0038507938385009765\n"
     ]
    }
   ],
   "source": [
    "import torch\n",
    "from torchvision.models import resnet\n",
    "\n",
    "device = torch.device(\"cuda\") if torch.cuda.is_available() else \"cpu\"\n",
    "\n",
    "\n",
    "model = resnet.resnet50(weights=resnet.ResNet50_Weights.IMAGENET1K_V1).to(device)\n",
    "compiled_model = torch.compile(model, mode=\"reduce-overhead\")\n",
    "\n",
    "\n",
    "unoptimized_t = benchmark_inference(model)\n",
    "print(unoptimized_t)\n",
    "\n",
    "optimized_t = benchmark_inference(compiled_model)\n",
    "print(optimized_t)\n",
    "\n",
    "print(f\"speedup: {100*(unoptimized_t-optimized_t) / unoptimized_t: .2f}%\")"
   ]
  },
  {
   "cell_type": "code",
   "execution_count": 3,
   "id": "7a609ef0-1782-4acc-ab37-448775115a84",
   "metadata": {
    "tags": []
   },
   "outputs": [
    {
     "name": "stdout",
     "output_type": "stream",
     "text": [
      "speedup:  42.24%\n"
     ]
    }
   ],
   "source": []
  },
  {
   "cell_type": "code",
   "execution_count": null,
   "id": "801d7e36-c9eb-4b47-a7e9-a218665abaff",
   "metadata": {},
   "outputs": [],
   "source": []
  }
 ],
 "metadata": {
  "kernelspec": {
   "display_name": "Python 3 (ipykernel)",
   "language": "python",
   "name": "python3"
  },
  "language_info": {
   "codemirror_mode": {
    "name": "ipython",
    "version": 3
   },
   "file_extension": ".py",
   "mimetype": "text/x-python",
   "name": "python",
   "nbconvert_exporter": "python",
   "pygments_lexer": "ipython3",
   "version": "3.10.9"
  }
 },
 "nbformat": 4,
 "nbformat_minor": 5
}
