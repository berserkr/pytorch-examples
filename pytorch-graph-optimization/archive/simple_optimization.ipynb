{
 "cells": [
  {
   "cell_type": "code",
   "execution_count": 1,
   "id": "cfbbd610-7e4a-4252-8e2d-9dd8e5e96ccc",
   "metadata": {
    "tags": []
   },
   "outputs": [],
   "source": [
    "import torch\n",
    "import torch.optim as optim\n",
    "import matplotlib.pyplot as plt\n",
    "device = torch.device(\"cuda\") if torch.cuda.is_available() else \"cpu\""
   ]
  },
  {
   "cell_type": "code",
   "execution_count": 1,
   "id": "e7eaf86d-339c-45c0-8b65-9c458b954c04",
   "metadata": {
    "tags": []
   },
   "outputs": [],
   "source": [
    "# 2D Rosenbrock function\n",
    "def f(x):\n",
    "    return 100*(x[1] - x[0]**2)**2 + (1 - x[0])**2"
   ]
  },
  {
   "cell_type": "code",
   "execution_count": 3,
   "id": "b279f44b-9e96-4ac5-9db1-e684019a843a",
   "metadata": {
    "tags": []
   },
   "outputs": [],
   "source": [
    "# 2D Rastrigin function\n",
    "def f(x):\n",
    "    return -(20 + x[0]**2 + x[1]**2 - 10*(torch.cos(2*pi*x[0])+torch.cos(2*pi*x[1])))"
   ]
  },
  {
   "cell_type": "code",
   "execution_count": 3,
   "id": "b49a120c-711f-4015-bf9a-a7ecaf03b157",
   "metadata": {
    "tags": []
   },
   "outputs": [],
   "source": [
    "# N-D Rosenbrock function\n",
    "def f(x):\n",
    "    rosen=0\n",
    "    for i in range(x.numel()-1):\n",
    "        rosen += 100*(x[i+1] - x[i]**2)**2 + (1 - x[i])**2\n",
    "        print(f\"100*(x[{i+1}] - x[{i}]**2)**2 + (1 - x[{i}])**2\")\n",
    "    return rosen"
   ]
  },
  {
   "cell_type": "code",
   "execution_count": 5,
   "id": "a3a99f03-2f23-4b9c-bccc-de2b2e400840",
   "metadata": {
    "tags": []
   },
   "outputs": [
    {
     "name": "stderr",
     "output_type": "stream",
     "text": [
      "[2023-03-22 06:37:10,870] torch._dynamo.symbolic_convert: [INFO] Step 1: torchdynamo start tracing f\n",
      "[2023-03-22 06:37:10,871] torch._dynamo.symbolic_convert: [DEBUG] TRACE starts_line /tmp/ipykernel_465/783128143.py:3\n",
      "[2023-03-22 06:37:10,871] torch._dynamo.symbolic_convert: [DEBUG] TRACE LOAD_CONST 0 []\n",
      "[2023-03-22 06:37:10,872] torch._dynamo.symbolic_convert: [DEBUG] TRACE STORE_FAST rosen [ConstantVariable(int)]\n",
      "[2023-03-22 06:37:10,872] torch._dynamo.symbolic_convert: [DEBUG] TRACE starts_line /tmp/ipykernel_465/783128143.py:4\n",
      "[2023-03-22 06:37:10,872] torch._dynamo.symbolic_convert: [DEBUG] TRACE LOAD_GLOBAL range []\n",
      "[2023-03-22 06:37:10,873] torch._dynamo.symbolic_convert: [DEBUG] TRACE LOAD_FAST x [BuiltinVariable(range)]\n",
      "[2023-03-22 06:37:10,873] torch._dynamo.symbolic_convert: [DEBUG] TRACE LOAD_ATTR numel [BuiltinVariable(range), TensorVariable()]\n",
      "[2023-03-22 06:37:10,874] torch._dynamo.symbolic_convert: [DEBUG] TRACE CALL_FUNCTION 0 [BuiltinVariable(range), GetAttrVariable(TensorVariable(), numel)]\n",
      "[2023-03-22 06:37:10,874] torch._dynamo.symbolic_convert: [DEBUG] TRACE LOAD_CONST 1 [BuiltinVariable(range), ConstantVariable(int)]\n",
      "[2023-03-22 06:37:10,875] torch._dynamo.symbolic_convert: [DEBUG] TRACE BINARY_SUBTRACT None [BuiltinVariable(range), ConstantVariable(int), ConstantVariable(int)]\n",
      "[2023-03-22 06:37:10,875] torch._dynamo.symbolic_convert: [DEBUG] TRACE CALL_FUNCTION 1 [BuiltinVariable(range), ConstantVariable(int)]\n",
      "[2023-03-22 06:37:10,876] torch._dynamo.symbolic_convert: [DEBUG] TRACE GET_ITER None [RangeVariable()]\n",
      "[2023-03-22 06:37:10,877] torch._dynamo.symbolic_convert: [DEBUG] TRACE FOR_ITER 110 [ListIteratorVariable()]\n",
      "[2023-03-22 06:37:10,877] torch._dynamo.symbolic_convert: [DEBUG] TRACE STORE_FAST i [ListIteratorVariable(), ConstantVariable(int)]\n",
      "[2023-03-22 06:37:10,878] torch._dynamo.symbolic_convert: [DEBUG] TRACE starts_line /tmp/ipykernel_465/783128143.py:5\n",
      "[2023-03-22 06:37:10,878] torch._dynamo.symbolic_convert: [DEBUG] TRACE LOAD_FAST rosen [ListIteratorVariable()]\n",
      "[2023-03-22 06:37:10,878] torch._dynamo.symbolic_convert: [DEBUG] TRACE LOAD_CONST 100 [ListIteratorVariable(), ConstantVariable(int)]\n",
      "[2023-03-22 06:37:10,879] torch._dynamo.symbolic_convert: [DEBUG] TRACE LOAD_FAST x [ListIteratorVariable(), ConstantVariable(int), ConstantVariable(int)]\n",
      "[2023-03-22 06:37:10,879] torch._dynamo.symbolic_convert: [DEBUG] TRACE LOAD_FAST i [ListIteratorVariable(), ConstantVariable(int), ConstantVariable(int), TensorVariable()]\n",
      "[2023-03-22 06:37:10,880] torch._dynamo.symbolic_convert: [DEBUG] TRACE LOAD_CONST 1 [ListIteratorVariable(), ConstantVariable(int), ConstantVariable(int), TensorVariable(), ConstantVariable(int)]\n",
      "[2023-03-22 06:37:10,880] torch._dynamo.symbolic_convert: [DEBUG] TRACE BINARY_ADD None [ListIteratorVariable(), ConstantVariable(int), ConstantVariable(int), TensorVariable(), ConstantVariable(int), ConstantVariable(int)]\n",
      "[2023-03-22 06:37:10,880] torch._dynamo.symbolic_convert: [DEBUG] TRACE BINARY_SUBSCR None [ListIteratorVariable(), ConstantVariable(int), ConstantVariable(int), TensorVariable(), ConstantVariable(int)]\n",
      "[2023-03-22 06:37:10,882] torch._dynamo.symbolic_convert: [DEBUG] TRACE LOAD_FAST x [ListIteratorVariable(), ConstantVariable(int), ConstantVariable(int), TensorVariable()]\n",
      "[2023-03-22 06:37:10,882] torch._dynamo.symbolic_convert: [DEBUG] TRACE LOAD_FAST i [ListIteratorVariable(), ConstantVariable(int), ConstantVariable(int), TensorVariable(), TensorVariable()]\n",
      "[2023-03-22 06:37:10,882] torch._dynamo.symbolic_convert: [DEBUG] TRACE BINARY_SUBSCR None [ListIteratorVariable(), ConstantVariable(int), ConstantVariable(int), TensorVariable(), TensorVariable(), ConstantVariable(int)]\n",
      "[2023-03-22 06:37:10,884] torch._dynamo.symbolic_convert: [DEBUG] TRACE LOAD_CONST 2 [ListIteratorVariable(), ConstantVariable(int), ConstantVariable(int), TensorVariable(), TensorVariable()]\n",
      "[2023-03-22 06:37:10,884] torch._dynamo.symbolic_convert: [DEBUG] TRACE BINARY_POWER None [ListIteratorVariable(), ConstantVariable(int), ConstantVariable(int), TensorVariable(), TensorVariable(), ConstantVariable(int)]\n",
      "[2023-03-22 06:37:10,885] torch._dynamo.symbolic_convert: [DEBUG] TRACE BINARY_SUBTRACT None [ListIteratorVariable(), ConstantVariable(int), ConstantVariable(int), TensorVariable(), TensorVariable()]\n",
      "[2023-03-22 06:37:10,886] torch._dynamo.symbolic_convert: [DEBUG] TRACE LOAD_CONST 2 [ListIteratorVariable(), ConstantVariable(int), ConstantVariable(int), TensorVariable()]\n",
      "[2023-03-22 06:37:10,887] torch._dynamo.symbolic_convert: [DEBUG] TRACE BINARY_POWER None [ListIteratorVariable(), ConstantVariable(int), ConstantVariable(int), TensorVariable(), ConstantVariable(int)]\n",
      "[2023-03-22 06:37:10,888] torch._dynamo.symbolic_convert: [DEBUG] TRACE BINARY_MULTIPLY None [ListIteratorVariable(), ConstantVariable(int), ConstantVariable(int), TensorVariable()]\n",
      "[2023-03-22 06:37:10,889] torch._dynamo.symbolic_convert: [DEBUG] TRACE LOAD_CONST 1 [ListIteratorVariable(), ConstantVariable(int), TensorVariable()]\n",
      "[2023-03-22 06:37:10,890] torch._dynamo.symbolic_convert: [DEBUG] TRACE LOAD_FAST x [ListIteratorVariable(), ConstantVariable(int), TensorVariable(), ConstantVariable(int)]\n",
      "[2023-03-22 06:37:10,890] torch._dynamo.symbolic_convert: [DEBUG] TRACE LOAD_FAST i [ListIteratorVariable(), ConstantVariable(int), TensorVariable(), ConstantVariable(int), TensorVariable()]\n",
      "[2023-03-22 06:37:10,891] torch._dynamo.symbolic_convert: [DEBUG] TRACE BINARY_SUBSCR None [ListIteratorVariable(), ConstantVariable(int), TensorVariable(), ConstantVariable(int), TensorVariable(), ConstantVariable(int)]\n",
      "[2023-03-22 06:37:10,892] torch._dynamo.symbolic_convert: [DEBUG] TRACE BINARY_SUBTRACT None [ListIteratorVariable(), ConstantVariable(int), TensorVariable(), ConstantVariable(int), TensorVariable()]\n",
      "[2023-03-22 06:37:10,893] torch._dynamo.symbolic_convert: [DEBUG] TRACE LOAD_CONST 2 [ListIteratorVariable(), ConstantVariable(int), TensorVariable(), TensorVariable()]\n",
      "[2023-03-22 06:37:10,893] torch._dynamo.symbolic_convert: [DEBUG] TRACE BINARY_POWER None [ListIteratorVariable(), ConstantVariable(int), TensorVariable(), TensorVariable(), ConstantVariable(int)]\n",
      "[2023-03-22 06:37:10,894] torch._dynamo.symbolic_convert: [DEBUG] TRACE BINARY_ADD None [ListIteratorVariable(), ConstantVariable(int), TensorVariable(), TensorVariable()]\n",
      "[2023-03-22 06:37:10,896] torch._dynamo.symbolic_convert: [DEBUG] TRACE INPLACE_ADD None [ListIteratorVariable(), ConstantVariable(int), TensorVariable()]\n",
      "[2023-03-22 06:37:10,897] torch._dynamo.symbolic_convert: [DEBUG] TRACE STORE_FAST rosen [ListIteratorVariable(), TensorVariable()]\n",
      "[2023-03-22 06:37:10,897] torch._dynamo.symbolic_convert: [DEBUG] TRACE starts_line /tmp/ipykernel_465/783128143.py:6\n",
      "[2023-03-22 06:37:10,897] torch._dynamo.symbolic_convert: [DEBUG] TRACE LOAD_GLOBAL print [ListIteratorVariable()]\n",
      "[2023-03-22 06:37:10,898] torch._dynamo.symbolic_convert: [DEBUG] TRACE LOAD_CONST 100*(x[ [ListIteratorVariable(), BuiltinVariable(print)]\n",
      "[2023-03-22 06:37:10,899] torch._dynamo.symbolic_convert: [DEBUG] TRACE LOAD_FAST i [ListIteratorVariable(), BuiltinVariable(print), ConstantVariable(str)]\n",
      "[2023-03-22 06:37:10,899] torch._dynamo.symbolic_convert: [DEBUG] TRACE LOAD_CONST 1 [ListIteratorVariable(), BuiltinVariable(print), ConstantVariable(str), ConstantVariable(int)]\n",
      "[2023-03-22 06:37:10,899] torch._dynamo.symbolic_convert: [DEBUG] TRACE BINARY_ADD None [ListIteratorVariable(), BuiltinVariable(print), ConstantVariable(str), ConstantVariable(int), ConstantVariable(int)]\n",
      "[2023-03-22 06:37:10,900] torch._dynamo.symbolic_convert: [DEBUG] TRACE FORMAT_VALUE (None, False) [ListIteratorVariable(), BuiltinVariable(print), ConstantVariable(str), ConstantVariable(int)]\n",
      "[2023-03-22 06:37:10,900] torch._dynamo.symbolic_convert: [DEBUG] TRACE LOAD_CONST ] - x[ [ListIteratorVariable(), BuiltinVariable(print), ConstantVariable(str), ConstantVariable(str)]\n",
      "[2023-03-22 06:37:10,901] torch._dynamo.symbolic_convert: [DEBUG] TRACE LOAD_FAST i [ListIteratorVariable(), BuiltinVariable(print), ConstantVariable(str), ConstantVariable(str), ConstantVariable(str)]\n",
      "[2023-03-22 06:37:10,901] torch._dynamo.symbolic_convert: [DEBUG] TRACE FORMAT_VALUE (None, False) [ListIteratorVariable(), BuiltinVariable(print), ConstantVariable(str), ConstantVariable(str), ConstantVariable(str), ConstantVariable(int)]\n",
      "[2023-03-22 06:37:10,902] torch._dynamo.symbolic_convert: [DEBUG] TRACE LOAD_CONST ]**2)**2 + (1 - x[ [ListIteratorVariable(), BuiltinVariable(print), ConstantVariable(str), ConstantVariable(str), ConstantVariable(str), ConstantVariable(str)]\n",
      "[2023-03-22 06:37:10,902] torch._dynamo.symbolic_convert: [DEBUG] TRACE LOAD_FAST i [ListIteratorVariable(), BuiltinVariable(print), ConstantVariable(str), ConstantVariable(str), ConstantVariable(str), ConstantVariable(str), ConstantVariable(str)]\n",
      "[2023-03-22 06:37:10,902] torch._dynamo.symbolic_convert: [DEBUG] TRACE FORMAT_VALUE (None, False) [ListIteratorVariable(), BuiltinVariable(print), ConstantVariable(str), ConstantVariable(str), ConstantVariable(str), ConstantVariable(str), ConstantVariable(str), ConstantVariable(int)]\n",
      "[2023-03-22 06:37:10,903] torch._dynamo.symbolic_convert: [DEBUG] TRACE LOAD_CONST ])**2 [ListIteratorVariable(), BuiltinVariable(print), ConstantVariable(str), ConstantVariable(str), ConstantVariable(str), ConstantVariable(str), ConstantVariable(str), ConstantVariable(str)]\n",
      "[2023-03-22 06:37:10,903] torch._dynamo.symbolic_convert: [DEBUG] TRACE BUILD_STRING 7 [ListIteratorVariable(), BuiltinVariable(print), ConstantVariable(str), ConstantVariable(str), ConstantVariable(str), ConstantVariable(str), ConstantVariable(str), ConstantVariable(str), ConstantVariable(str)]\n",
      "[2023-03-22 06:37:10,904] torch._dynamo.symbolic_convert: [DEBUG] TRACE CALL_FUNCTION 1 [ListIteratorVariable(), BuiltinVariable(print), ConstantVariable(str)]\n",
      "[2023-03-22 06:37:10,904] torch._dynamo.symbolic_convert: [DEBUG] Skipping frame because there is a graph break in a for/while loop\n",
      "[2023-03-22 06:37:10,905] torch._dynamo.convert_frame: [DEBUG] Skipping frame Skipping frame because there is a graph break in a for/while loop f                     /tmp/ipykernel_465/783128143.py 2\n",
      "[2023-03-22 06:37:10,905] torch._dynamo.convert_frame: [DEBUG] skipping because no torch.* write             /opt/conda/lib/python3.10/site-packages/ipykernel/iostream.py 535\n",
      "[2023-03-22 06:37:10,906] torch._dynamo.convert_frame: [DEBUG] skipping because no torch.* _is_master_process             /opt/conda/lib/python3.10/site-packages/ipykernel/iostream.py 444\n",
      "[2023-03-22 06:37:10,906] torch._dynamo.convert_frame: [DEBUG] skipping because no torch.* _schedule_flush             /opt/conda/lib/python3.10/site-packages/ipykernel/iostream.py 465\n",
      "[2023-03-22 06:37:10,907] torch._dynamo.convert_frame: [DEBUG] skipping because no torch.* schedule             /opt/conda/lib/python3.10/site-packages/ipykernel/iostream.py 203\n",
      "[2023-03-22 06:37:10,907] torch._dynamo.convert_frame: [DEBUG] skipping because no torch.* _event_pipe             /opt/conda/lib/python3.10/site-packages/ipykernel/iostream.py 90\n",
      "[2023-03-22 06:37:10,908] torch._dynamo.convert_frame: [DEBUG] skipping because no torch.* send             /opt/conda/lib/python3.10/site-packages/zmq/sugar/socket.py 613\n"
     ]
    },
    {
     "name": "stdout",
     "output_type": "stream",
     "text": [
      "100*(x[1] - x[0]**2)**2 + (1 - x[0])**2\n",
      "100*(x[2] - x[1]**2)**2 + (1 - x[1])**2\n",
      "100*(x[3] - x[2]**2)**2 + (1 - x[2])**2\n",
      "100*(x[4] - x[3]**2)**2 + (1 - x[3])**2\n"
     ]
    },
    {
     "data": {
      "text/plain": [
       "tensor(69.7175)"
      ]
     },
     "execution_count": 5,
     "metadata": {},
     "output_type": "execute_result"
    }
   ],
   "source": [
    "import torch\n",
    "import torch._dynamo\n",
    "import os\n",
    "torch._dynamo.reset()\n",
    "# torch._dynamo.explain(f, torch.rand(2))\n",
    "\n",
    "os.environ['TORCH_COMPILE_DEBUG']='1'\n",
    "\n",
    "t = torch.rand(5)\n",
    "cf = torch.compile(f, options={'trace.graph_diagram':True,\n",
    "                                'trace.enabled':True})\n",
    "cf(t)"
   ]
  },
  {
   "cell_type": "code",
   "execution_count": 3,
   "id": "3c517a4c-62a4-4cb4-a69f-27f44522ed85",
   "metadata": {
    "tags": []
   },
   "outputs": [],
   "source": [
    "def f(x):\n",
    "    rosen=0\n",
    "    for i in range(x.size(dim=0)-1):\n",
    "        rosen += 100*(x[i+1] - x[i]**2)**2 + (1 - x[i])**2\n",
    "        print(f\"100*(x[{i}+1] - x[{i}]**2)**2 + (1 - x[{i}])**2\")\n",
    "    return rosen"
   ]
  },
  {
   "cell_type": "code",
   "execution_count": null,
   "id": "a9330371-3859-4209-b44c-5c4ad723ad73",
   "metadata": {
    "tags": []
   },
   "outputs": [],
   "source": [
    "import torch\n",
    "import math\n",
    "import torch.optim as optim\n",
    "import matplotlib.pyplot as plt\n",
    "pi = torch.tensor(math.pi)\n",
    "device = torch.device(\"cuda\") if torch.cuda.is_available() else \"cpu\""
   ]
  },
  {
   "cell_type": "code",
   "execution_count": null,
   "id": "0fd17659-b6a5-4f0f-9e74-9dae97368651",
   "metadata": {
    "tags": []
   },
   "outputs": [],
   "source": [
    "# L-BFGS\n",
    "import random\n",
    "torch.manual_seed(0)\n",
    "random.seed(0)\n",
    "\n",
    "def closure():\n",
    "    optimizer.zero_grad()\n",
    "    f_eval = f(x_i)\n",
    "    f_eval.backward()\n",
    "    return f_eval\n",
    "\n",
    "x_i = torch.randn(100,requires_grad=True, device=\"cpu\")\n",
    "print(f(x_i))\n",
    "optimizer = optim.LBFGS([x_i],\n",
    "                        lr=1,\n",
    "                        max_iter=500, \n",
    "                        line_search_fn=\"strong_wolfe\")"
   ]
  },
  {
   "cell_type": "code",
   "execution_count": null,
   "id": "1d532409-d14b-4285-9dea-3204b2e5e860",
   "metadata": {
    "tags": []
   },
   "outputs": [],
   "source": [
    "import torch._dynamo\n",
    "torch._dynamo.config.verbose=True\n",
    "f = torch.compile(f,options={'trace.graph_diagram':True,\n",
    "                                'trace.enabled':True})\n",
    "f_eval_prev = f(x_i)"
   ]
  },
  {
   "cell_type": "code",
   "execution_count": null,
   "id": "4d6940f9-7fda-4836-90cd-4b35ae40cdc6",
   "metadata": {
    "tags": []
   },
   "outputs": [],
   "source": [
    "%time optimizer.step(closure)\n",
    "f_eval = f(x_i)\n",
    "print(f\"x:{x_i}, fn_prev:{f_eval_prev} fn:{f_eval}\")"
   ]
  },
  {
   "cell_type": "code",
   "execution_count": null,
   "id": "92c417bc-6505-42b8-a43f-bb4967b46c6d",
   "metadata": {
    "scrolled": true,
    "tags": []
   },
   "outputs": [],
   "source": [
    "%%time\n",
    "counter = 0\n",
    "while (f_eval_prev-f_eval) > 1e-10:\n",
    "    counter+=1\n",
    "    f_eval_prev = f_eval\n",
    "    counter+=1\n",
    "    optimizer.step(closure)\n",
    "    f_eval = f(x_i)\n",
    "    if not counter%1:\n",
    "        print(f\"x:{x_i}, fn:{f_eval}\")\n",
    "print(f\"Steps: {counter}\")\n",
    "print(f\"x:{x_i}, fn_prev:{f_eval_prev} fn:{f_eval}\")"
   ]
  },
  {
   "cell_type": "markdown",
   "id": "61153bfc-30ad-4242-9ce9-fe68ac48f906",
   "metadata": {},
   "source": [
    "Steps: 344684\n",
    "\n",
    "x:tensor([0.9989, 0.9979], requires_grad=True), fn_prev:1.1128381629532669e-06 fn:1.112765403377125e-06\n",
    "\n",
    "CPU times: user 46.5 s, sys: 42.8 ms, total: 46.5 s\n",
    "\n",
    "Wall time: 46.4 s"
   ]
  },
  {
   "cell_type": "code",
   "execution_count": null,
   "id": "8f60948f-2848-40db-a99a-9832983f63d3",
   "metadata": {
    "tags": []
   },
   "outputs": [],
   "source": [
    "f_eval = f(x_i)\n",
    "while f_eval > 1e-5:\n",
    "    counter+=1\n",
    "    f_eval = f(x_i)\n",
    "    optimizer.step(closure)\n",
    "\n",
    "print(x_i)\n",
    "print(f(x_i))\n",
    "optimizer.defaults"
   ]
  },
  {
   "cell_type": "code",
   "execution_count": null,
   "id": "7407d782-3fe1-49ce-860b-afabd9bc720a",
   "metadata": {},
   "outputs": [],
   "source": []
  }
 ],
 "metadata": {
  "kernelspec": {
   "display_name": "Python 3 (ipykernel)",
   "language": "python",
   "name": "python3"
  },
  "language_info": {
   "codemirror_mode": {
    "name": "ipython",
    "version": 3
   },
   "file_extension": ".py",
   "mimetype": "text/x-python",
   "name": "python",
   "nbconvert_exporter": "python",
   "pygments_lexer": "ipython3",
   "version": "3.10.9"
  }
 },
 "nbformat": 4,
 "nbformat_minor": 5
}
