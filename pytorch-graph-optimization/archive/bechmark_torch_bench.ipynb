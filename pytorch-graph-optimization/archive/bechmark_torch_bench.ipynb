{
 "cells": [
  {
   "cell_type": "code",
   "execution_count": 18,
   "id": "0f7b313c-1187-46b1-aba2-e107ceaaffeb",
   "metadata": {
    "tags": []
   },
   "outputs": [],
   "source": [
    "import torch\n",
    "import torch\n",
    "from triton.testing import do_bench\n",
    "from torchvision.models import resnet\n",
    "\n",
    "device = torch.device(\"cuda\") if torch.cuda.is_available() else \"cpu\""
   ]
  },
  {
   "cell_type": "code",
   "execution_count": 19,
   "id": "995f7ad8-eb6a-4de0-a605-5c13de18f465",
   "metadata": {
    "tags": []
   },
   "outputs": [],
   "source": [
    "def run_batch_train(model, optimizer, batch=16):\n",
    "    x = torch.randn(batch, 3, 224, 224).to(device)\n",
    "    optimizer.zero_grad()\n",
    "    out = model(x)\n",
    "    out.sum().backward()\n",
    "    optimizer.step()\n",
    "    \n",
    "def run_batch_inference(model, batch=16):\n",
    "    x = torch.randn(batch, 3, 224, 224).to(device)\n",
    "    model(x)"
   ]
  },
  {
   "cell_type": "code",
   "execution_count": 20,
   "id": "1590ed3e-0702-4f2e-89ef-9c43b0d22539",
   "metadata": {
    "tags": []
   },
   "outputs": [],
   "source": [
    "model = resnet.resnet152(weights=resnet.ResNet152_Weights.IMAGENET1K_V1).to(device)\n",
    "optimizer = torch.optim.SGD(model.parameters(), lr=0.01)\n",
    "batch = 16\n",
    "compiled_model = torch.compile(model)"
   ]
  },
  {
   "cell_type": "code",
   "execution_count": 21,
   "id": "c7c7798f-c3cb-47f8-be58-07479b26127a",
   "metadata": {
    "tags": []
   },
   "outputs": [],
   "source": [
    "import torch.utils.benchmark as benchmark\n",
    "\n",
    "t_model = benchmark.Timer(\n",
    "    stmt='run_batch_train(model, optimizer, batch)',\n",
    "    setup='from __main__ import run_batch_train',\n",
    "    globals={'model': model, 'optimizer': optimizer, 'batch':batch})\n",
    "\n",
    "t_compiled = benchmark.Timer(\n",
    "    stmt='run_batch_train(model, optimizer, batch)',\n",
    "    setup='from __main__ import run_batch_train',\n",
    "    globals={'model': compiled_model, 'optimizer': optimizer, 'batch':batch})"
   ]
  },
  {
   "cell_type": "code",
   "execution_count": 23,
   "id": "c2f12ae3-0a00-4be7-8511-41488d62b3d9",
   "metadata": {
    "tags": []
   },
   "outputs": [],
   "source": [
    "t_model_avg = t_model.timeit(100).mean\n",
    "t_compiled_avg = t_compiled.timeit(100).mean"
   ]
  },
  {
   "cell_type": "code",
   "execution_count": 24,
   "id": "3363f319-c151-4153-bba3-002ca4dcc984",
   "metadata": {
    "tags": []
   },
   "outputs": [
    {
     "name": "stdout",
     "output_type": "stream",
     "text": [
      "Inference speedup:  3.38%\n"
     ]
    }
   ],
   "source": [
    "print(f\"Inference speedup: {100*(t_model_avg-t_compiled_avg) / t_model_avg: .2f}%\")"
   ]
  },
  {
   "cell_type": "code",
   "execution_count": null,
   "id": "fac920f0-5a89-4cb9-9a44-dcd53fb887d5",
   "metadata": {},
   "outputs": [],
   "source": [
    "time = benchmark.Timer(\n",
    "    stmt='run_batch_inference(model, optimizer, batch)',\n",
    "    setup='from __main__ import run_batch_train',\n",
    "    globals={'model': model, 'batch':batch})\n",
    "\n",
    "t1 = benchmark.Timer(\n",
    "    stmt='run_batch_inference(model, optimizer, batch)',\n",
    "    setup='from __main__ import run_batch_train',\n",
    "    globals={'model': compiled_model, 'batch':batch})\n",
    "\n",
    "t0_avg = t0.timeit(100)\n",
    "t1_avg = t1.timeit(100)\n",
    "\n",
    "print(t0_avg)\n",
    "print(t1_avg)"
   ]
  }
 ],
 "metadata": {
  "kernelspec": {
   "display_name": "Python 3 (ipykernel)",
   "language": "python",
   "name": "python3"
  },
  "language_info": {
   "codemirror_mode": {
    "name": "ipython",
    "version": 3
   },
   "file_extension": ".py",
   "mimetype": "text/x-python",
   "name": "python",
   "nbconvert_exporter": "python",
   "pygments_lexer": "ipython3",
   "version": "3.10.9"
  }
 },
 "nbformat": 4,
 "nbformat_minor": 5
}
