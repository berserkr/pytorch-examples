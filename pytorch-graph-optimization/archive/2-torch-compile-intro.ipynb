{
 "cells": [
  {
   "cell_type": "code",
   "execution_count": 1,
   "id": "a2e14a76-d475-4ae7-b481-3bf850e900d1",
   "metadata": {
    "tags": []
   },
   "outputs": [],
   "source": [
    "import torch\n",
    "from torch import nn"
   ]
  },
  {
   "cell_type": "code",
   "execution_count": 2,
   "id": "c5309297-5989-4dca-b61e-1dffe44992cd",
   "metadata": {
    "tags": []
   },
   "outputs": [],
   "source": [
    "def fn(x, y):\n",
    "    a = torch.sin(x)\n",
    "    b = torch.cos(y)\n",
    "    return a + b"
   ]
  },
  {
   "cell_type": "code",
   "execution_count": 32,
   "id": "c1457bc7-f536-4c3e-a3c0-3a9c62d622b7",
   "metadata": {
    "tags": []
   },
   "outputs": [
    {
     "name": "stdout",
     "output_type": "stream",
     "text": [
      "Writing FX graph to file: /pytorch-examples/pytorch-graph-optim/torch_compile_debug/run_2023_03_18_07_19_15_866950-pid_184/aot_torchinductor/model__0_forward_1.0/graph_diagram.svg\n"
     ]
    },
    {
     "name": "stderr",
     "output_type": "stream",
     "text": [
      "[2023-03-18 07:19:21,225] torch._inductor.debug: [WARNING] model__0_forward_1 debug trace: /pytorch-examples/pytorch-graph-optim/torch_compile_debug/run_2023_03_18_07_19_15_866950-pid_184/aot_torchinductor/model__0_forward_1.0\n"
     ]
    },
    {
     "name": "stdout",
     "output_type": "stream",
     "text": [
      "Writing FX graph to file: /pytorch-examples/pytorch-graph-optim/torch_compile_debug/run_2023_03_18_07_19_15_866950-pid_184/aot_torchinductor/model__0_backward_2.1/graph_diagram.svg\n"
     ]
    },
    {
     "name": "stderr",
     "output_type": "stream",
     "text": [
      "[2023-03-18 07:19:22,767] torch._inductor.debug: [WARNING] model__0_backward_2 debug trace: /pytorch-examples/pytorch-graph-optim/torch_compile_debug/run_2023_03_18_07_19_15_866950-pid_184/aot_torchinductor/model__0_backward_2.1\n"
     ]
    }
   ],
   "source": [
    "new_fn = torch.compile(fn, backend=\"inductor\", \n",
    "                       options={'trace.graph_diagram':True,\n",
    "                                'trace.enabled':True})\n",
    "\n",
    "input_tensor = torch.randn(10000, requires_grad=True)\n",
    "out = new_fn(input_tensor, input_tensor).sum().backward()"
   ]
  },
  {
   "cell_type": "code",
   "execution_count": 34,
   "id": "d3dd98c3-9d6e-4031-b4c8-75b462057ebe",
   "metadata": {
    "tags": []
   },
   "outputs": [],
   "source": [
    "from torch.fx import passes, symbolic_trace\n",
    "model = symbolic_trace(fn)\n",
    "\n",
    "g = passes.graph_drawer.FxGraphDrawer(model, 'fn')\n",
    "# with open(\"unoptimized_graph.svg\", \"wb\") as f:\n",
    "#     f.write(g.get_dot_graph().create_svg())"
   ]
  },
  {
   "cell_type": "code",
   "execution_count": 31,
   "id": "05970749-293f-4060-b266-2c6a45a75a5a",
   "metadata": {},
   "outputs": [
    {
     "name": "stdout",
     "output_type": "stream",
     "text": [
      "\n",
      "\n",
      "\n",
      "def forward(self, x_1, y_1):\n",
      "    sin = torch.ops.aten.sin.default(y_1)\n",
      "    cos = torch.ops.aten.cos.default(y_1);  y_1 = None\n",
      "    add = torch.ops.aten.add.Tensor(sin, cos);  sin = cos = None\n",
      "    return add\n",
      "    \n"
     ]
    }
   ],
   "source": [
    "from functorch import make_fx\n",
    "input_tensor = torch.randn(10000, requires_grad=True)\n",
    "g = make_fx(fn)(input_tensor, input_tensor)\n",
    "print(g.code)"
   ]
  },
  {
   "cell_type": "code",
   "execution_count": 37,
   "id": "81f2d751-2b73-4f7c-8efd-490a9a74d549",
   "metadata": {
    "tags": []
   },
   "outputs": [
    {
     "name": "stdout",
     "output_type": "stream",
     "text": [
      "\n",
      "\n",
      "\n",
      "def forward(self, x, y):\n",
      "    sin = torch.sin(x);  x = None\n",
      "    cos = torch.cos(y);  y = None\n",
      "    add = sin + cos;  sin = cos = None\n",
      "    return add\n",
      "    \n"
     ]
    }
   ],
   "source": [
    "print(model.code)"
   ]
  },
  {
   "cell_type": "code",
   "execution_count": null,
   "id": "18fd1541-08c9-4743-aa04-26675e09bc93",
   "metadata": {},
   "outputs": [],
   "source": [
    "from functorch import make_fx\n",
    "g = make_fx(model)(x)"
   ]
  }
 ],
 "metadata": {
  "kernelspec": {
   "display_name": "Python 3 (ipykernel)",
   "language": "python",
   "name": "python3"
  },
  "language_info": {
   "codemirror_mode": {
    "name": "ipython",
    "version": 3
   },
   "file_extension": ".py",
   "mimetype": "text/x-python",
   "name": "python",
   "nbconvert_exporter": "python",
   "pygments_lexer": "ipython3",
   "version": "3.10.9"
  }
 },
 "nbformat": 4,
 "nbformat_minor": 5
}
