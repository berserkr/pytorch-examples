{
 "cells": [
  {
   "cell_type": "code",
   "execution_count": 1,
   "id": "f21b5c00-8504-4636-bb2b-39846d97ed52",
   "metadata": {
    "tags": []
   },
   "outputs": [
    {
     "data": {
      "text/plain": [
       "device(type='xla', index=0)"
      ]
     },
     "execution_count": 1,
     "metadata": {},
     "output_type": "execute_result"
    }
   ],
   "source": [
    "import os\n",
    "os.environ['PJRT_DEVICE']='GPU'\n",
    "os.environ['GPU_NUM_DEVICES']='1'\n",
    "\n",
    "import torch\n",
    "import torchvision\n",
    "import torch._dynamo\n",
    "import torch_xla.core.xla_model as xm\n",
    "\n",
    "device = xm.xla_device()\n",
    "device"
   ]
  },
  {
   "cell_type": "code",
   "execution_count": 2,
   "id": "5d369319-bc7e-4e77-b372-92cc06c8658f",
   "metadata": {
    "tags": []
   },
   "outputs": [
    {
     "data": {
      "text/plain": [
       "['aot_ts_nvfuser',\n",
       " 'cudagraphs',\n",
       " 'inductor',\n",
       " 'ipex',\n",
       " 'nvprims_nvfuser',\n",
       " 'onnxrt',\n",
       " 'tvm']"
      ]
     },
     "execution_count": 2,
     "metadata": {},
     "output_type": "execute_result"
    }
   ],
   "source": [
    "torch._dynamo.list_backends()"
   ]
  },
  {
   "cell_type": "code",
   "execution_count": 5,
   "id": "0724d8b9-9a90-4466-8347-33c1081601f7",
   "metadata": {
    "tags": []
   },
   "outputs": [],
   "source": [
    "def eval_model(device):\n",
    "    xla_resnet18 = torchvision.models.resnet18().to(device)\n",
    "    xla_resnet18.eval()\n",
    "    # xla_resnet18 = torch.compile(xla_resnet18, backend='inductor')\n",
    "    t = torch.randn(16, 3, 224, 224).to(device)\n",
    "    for i in range(10000):\n",
    "        # print(f\"iteration: {i}\")\n",
    "        output = xla_resnet18(t)"
   ]
  },
  {
   "cell_type": "code",
   "execution_count": 6,
   "id": "4550b876-541c-4bf6-b8b2-1f0a1cca72a6",
   "metadata": {
    "tags": []
   },
   "outputs": [],
   "source": [
    "eval_model(device)"
   ]
  },
  {
   "cell_type": "code",
   "execution_count": null,
   "id": "fea47fb7-eb6a-491a-b1b2-42b4884a0e07",
   "metadata": {},
   "outputs": [],
   "source": []
  }
 ],
 "metadata": {
  "kernelspec": {
   "display_name": "Python 3 (ipykernel)",
   "language": "python",
   "name": "python3"
  },
  "language_info": {
   "codemirror_mode": {
    "name": "ipython",
    "version": 3
   },
   "file_extension": ".py",
   "mimetype": "text/x-python",
   "name": "python",
   "nbconvert_exporter": "python",
   "pygments_lexer": "ipython3",
   "version": "3.8.16"
  }
 },
 "nbformat": 4,
 "nbformat_minor": 5
}
