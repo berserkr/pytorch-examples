{
 "cells": [
  {
   "cell_type": "code",
   "execution_count": 1,
   "id": "dd7ed31a-9899-4489-a7a1-bc2bb1d90ee7",
   "metadata": {
    "tags": []
   },
   "outputs": [],
   "source": [
    "import argparse\n",
    "import json\n",
    "import logging\n",
    "import os\n",
    "import sys\n",
    "\n",
    "import torch\n",
    "import torch.nn as nn\n",
    "import torch.nn.functional as F\n",
    "import torch.optim as optim\n",
    "import torch.utils.data\n",
    "import torchvision\n",
    "\n",
    "from torchvision import datasets, transforms\n",
    "\n",
    "device = torch.device('cuda:0' if torch.cuda.is_available() else 'cpu')\n",
    "torch.set_float32_matmul_precision('high') #Uses TF32 when available"
   ]
  },
  {
   "cell_type": "code",
   "execution_count": 2,
   "id": "37effd54-1f4c-42b2-bd08-1d524908fdc3",
   "metadata": {
    "tags": []
   },
   "outputs": [],
   "source": [
    "def _get_model(model_type='custom'):\n",
    "    if model_type == 'resnet':\n",
    "        model = torchvision.models.resnet18(weights='IMAGENET1K_V1')\n",
    "        model.fc = nn.Linear(512, 10)\n",
    "        return model\n",
    "    else:\n",
    "        class Net(nn.Module):\n",
    "            def __init__(self):\n",
    "                super(Net, self).__init__()\n",
    "                self.conv1 = nn.Conv2d(3, 6, 5)\n",
    "                self.pool = nn.MaxPool2d(2, 2)\n",
    "                self.conv2 = nn.Conv2d(6, 16, 5)\n",
    "                self.fc1 = nn.Linear(16 * 5 * 5, 120)\n",
    "                self.fc2 = nn.Linear(120, 84)\n",
    "                self.fc3 = nn.Linear(84, 10)\n",
    "\n",
    "            def forward(self, x):\n",
    "                x = self.pool(F.relu(self.conv1(x)))\n",
    "                x = self.pool(F.relu(self.conv2(x)))\n",
    "                x = x.view(-1, 16 * 5 * 5)\n",
    "                x = F.relu(self.fc1(x))\n",
    "                x = F.relu(self.fc2(x))\n",
    "                x = self.fc3(x)\n",
    "                return x\n",
    "    return Net()"
   ]
  },
  {
   "cell_type": "code",
   "execution_count": 3,
   "id": "55a1d996-acc3-45ac-8113-3344bc7ddc28",
   "metadata": {
    "tags": []
   },
   "outputs": [],
   "source": [
    "# Define data augmentation\n",
    "def _get_transforms():\n",
    "        transform = transforms.Compose([\n",
    "        transforms.RandomCrop(32, padding=4),\n",
    "        transforms.RandomHorizontalFlip(),\n",
    "        transforms.ToTensor(),\n",
    "        transforms.Normalize((0.4914, 0.4822, 0.4465), (0.2023, 0.1994, 0.2010)),\n",
    "    ])\n",
    "        return transform"
   ]
  },
  {
   "cell_type": "code",
   "execution_count": 4,
   "id": "f8cc60fa-faba-40d6-a2cc-7d5f29e682c6",
   "metadata": {
    "tags": []
   },
   "outputs": [],
   "source": [
    "def _get_dataloaders(batch_size):\n",
    "    trainset = torchvision.datasets.CIFAR10(root='./data', train=True,\n",
    "                                        download=True, transform=_get_transforms())\n",
    "    testset = torchvision.datasets.CIFAR10(root='./data', train=False,\n",
    "                                       download=True, transform=_get_transforms())\n",
    "    trainloader = torch.utils.data.DataLoader(trainset, batch_size=batch_size,\n",
    "                                          shuffle=True)\n",
    "    testloader = torch.utils.data.DataLoader(testset, batch_size=batch_size,\n",
    "                                         shuffle=False)\n",
    "    return trainloader, testloader"
   ]
  },
  {
   "cell_type": "code",
   "execution_count": 5,
   "id": "c7bda30f-df68-4a3b-925a-3153ba1f6809",
   "metadata": {
    "tags": []
   },
   "outputs": [],
   "source": [
    "def test(model, test_loader, device):\n",
    "    test_loss = 0\n",
    "    correct = 0\n",
    "    with torch.no_grad():\n",
    "        for data, target in test_loader:\n",
    "            data, target = data.to(device), target.to(device)\n",
    "            output = model(data)\n",
    "            test_loss += F.nll_loss(output, target, reduction='sum').item()  # sum up batch loss\n",
    "            pred = output.max(1, keepdim=True)[1]  # get the index of the max log-probability\n",
    "            correct += pred.eq(target.view_as(pred)).sum().item()\n",
    "\n",
    "    test_loss /= len(test_loader.dataset)\n",
    "    print(f\"Test set: Average loss: {test_loss}, Accuracy: {correct / len(test_loader.dataset)}\\n\")"
   ]
  },
  {
   "cell_type": "code",
   "execution_count": 6,
   "id": "96633f85-1875-4dc9-a2ee-9784083e63c9",
   "metadata": {
    "scrolled": true,
    "tags": []
   },
   "outputs": [],
   "source": [
    "import time\n",
    "def train(model, batch_size, epochs):\n",
    "    torch.manual_seed(0)\n",
    "    lr = 0.01\n",
    "    momentum=0.9\n",
    "    train_loader, test_loader = _get_dataloaders(batch_size)\n",
    "\n",
    "    criterion = nn.CrossEntropyLoss()\n",
    "    optimizer = optim.SGD(model.parameters(), lr=lr, momentum=momentum)\n",
    "\n",
    "    for epoch in range(1, epochs + 1):\n",
    "        start_time = time.time()\n",
    "        for batch_idx, (data, target) in enumerate(train_loader, 1):\n",
    "            data, target = data.to(device), target.to(device)\n",
    "\n",
    "            # zero the parameter gradients\n",
    "            optimizer.zero_grad()\n",
    "\n",
    "            # forward + backward + optimize\n",
    "            output = model(data)\n",
    "            loss = criterion(output, target)\n",
    "            loss.backward()\n",
    "            optimizer.step()\n",
    "\n",
    "        print(f\"Train Epoch: {epoch} Epoch time: {time.time()-start_time:0.4f} Loss: {loss.item()}\")\n",
    "        test(model, test_loader, device)"
   ]
  },
  {
   "cell_type": "code",
   "execution_count": 7,
   "id": "7ff7449c-99e2-46ef-a206-e2498718bf90",
   "metadata": {},
   "outputs": [
    {
     "name": "stdout",
     "output_type": "stream",
     "text": [
      "Train resnet on CIFAR-10 without compilation\n",
      "Files already downloaded and verified\n",
      "Files already downloaded and verified\n",
      "Train Epoch: 1 Epoch time: 35.7816 Loss: 1.7419991493225098\n",
      "Test set: Average loss: -1.5503838454246521, Accuracy: 0.3308\n",
      "\n",
      "Train Epoch: 2 Epoch time: 33.3076 Loss: 1.5548328161239624\n",
      "Test set: Average loss: -1.5215434109210968, Accuracy: 0.3991\n",
      "\n",
      "CPU times: user 1min 18s, sys: 1.23 s, total: 1min 19s\n",
      "Wall time: 1min 21s\n"
     ]
    }
   ],
   "source": [
    "%%time\n",
    "print(\"Train resnet on CIFAR-10 without compilation\")\n",
    "model = _get_model('resnet').to(device)\n",
    "train(model, batch_size=16, epochs=2)"
   ]
  },
  {
   "cell_type": "code",
   "execution_count": 8,
   "id": "f5330b33-eb7b-4a18-939a-44564dcf4441",
   "metadata": {
    "tags": []
   },
   "outputs": [],
   "source": [
    "# %%time\n",
    "# import torch._inductor.config\n",
    "# model = _get_model('resnet50').to(device)\n",
    "# model = torch.compile(model, backend=\"inductor\")\n",
    "\n",
    "# # model = torch.compile(model, backend=\"inductor\",\n",
    "# #                       options={'trace.graph_diagram':False,\n",
    "# #                                      'trace.enabled':False}\n",
    "\n",
    "# randinput = torch.randn(256,3,32,32).to(device)\n",
    "# randoutput = torch.randn(256,10).to(device)\n",
    "\n",
    "# print('Generating forward and backward graphs')\n",
    "# out = model(randinput)\n",
    "# nn.CrossEntropyLoss()(out, randoutput).backward()"
   ]
  },
  {
   "cell_type": "code",
   "execution_count": 9,
   "id": "b5ef0dbd-2d0c-4f4c-bd93-b2d4c6765829",
   "metadata": {
    "tags": []
   },
   "outputs": [
    {
     "name": "stdout",
     "output_type": "stream",
     "text": [
      "Train compiled resnet on CIFAR-10\n",
      "Files already downloaded and verified\n",
      "Files already downloaded and verified\n",
      "Train Epoch: 1 Epoch time: 46.4201 Loss: 1.404991865158081\n",
      "Test set: Average loss: -1.601543181371689, Accuracy: 0.3479\n",
      "\n",
      "Train Epoch: 2 Epoch time: 37.6773 Loss: 1.2884515523910522\n",
      "Test set: Average loss: -1.9376735474586486, Accuracy: 0.4442\n",
      "\n"
     ]
    }
   ],
   "source": [
    "print(\"Train compiled resnet on CIFAR-10\")\n",
    "model = _get_model('resnet').to(device)\n",
    "\n",
    "model = torch.compile(model, backend=\"inductor\", \n",
    "                      options={'trace.graph_diagram':False,\n",
    "                               'trace.enabled':False})\n",
    "\n",
    "train(model, batch_size=16, epochs=2)"
   ]
  },
  {
   "cell_type": "code",
   "execution_count": null,
   "id": "63ed4c0a-e375-4bc4-b321-fa107a9341b7",
   "metadata": {},
   "outputs": [],
   "source": []
  }
 ],
 "metadata": {
  "kernelspec": {
   "display_name": "Python 3 (ipykernel)",
   "language": "python",
   "name": "python3"
  },
  "language_info": {
   "codemirror_mode": {
    "name": "ipython",
    "version": 3
   },
   "file_extension": ".py",
   "mimetype": "text/x-python",
   "name": "python",
   "nbconvert_exporter": "python",
   "pygments_lexer": "ipython3",
   "version": "3.10.9"
  }
 },
 "nbformat": 4,
 "nbformat_minor": 5
}
