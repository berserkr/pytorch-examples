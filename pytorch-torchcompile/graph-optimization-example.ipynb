{
 "cells": [
  {
   "cell_type": "code",
   "execution_count": null,
   "id": "a2e14a76-d475-4ae7-b481-3bf850e900d1",
   "metadata": {},
   "outputs": [],
   "source": [
    "import torch\n",
    "from torch import nn"
   ]
  },
  {
   "cell_type": "code",
   "execution_count": null,
   "id": "c5309297-5989-4dca-b61e-1dffe44992cd",
   "metadata": {},
   "outputs": [],
   "source": [
    "def fn(x, y):\n",
    "    a = torch.cos(x)\n",
    "    b = torch.sin(y)\n",
    "    return a + b"
   ]
  },
  {
   "cell_type": "code",
   "execution_count": null,
   "id": "c1457bc7-f536-4c3e-a3c0-3a9c62d622b7",
   "metadata": {},
   "outputs": [],
   "source": [
    "new_fn = torch.compile(fn, backend=\"inductor\", \n",
    "                       options={'trace.graph_diagram':True,\n",
    "                                     'trace.enabled':True})\n",
    "\n",
    "input_tensor = torch.randn(10000).to('cuda:0')\n",
    "a = new_fn(input_tensor, input_tensor)"
   ]
  },
  {
   "cell_type": "code",
   "execution_count": null,
   "id": "d3dd98c3-9d6e-4031-b4c8-75b462057ebe",
   "metadata": {
    "tags": []
   },
   "outputs": [],
   "source": [
    "from torch.fx import passes, symbolic_trace\n",
    "model = symbolic_trace(fn)\n",
    "\n",
    "g = passes.graph_drawer.FxGraphDrawer(model, 'fn')\n",
    "with open(\"unoptim_graph.svg\", \"wb\") as f:\n",
    "    f.write(g.get_dot_graph().create_svg())"
   ]
  },
  {
   "cell_type": "code",
   "execution_count": null,
   "id": "a4df7d6a-b6f3-40b8-866b-d8debc2fd50d",
   "metadata": {
    "tags": []
   },
   "outputs": [],
   "source": [
    "%time print(4)"
   ]
  },
  {
   "cell_type": "code",
   "execution_count": null,
   "id": "d5b66414-8b63-4abc-b3cf-2f7d094e0943",
   "metadata": {},
   "outputs": [],
   "source": []
  }
 ],
 "metadata": {
  "kernelspec": {
   "display_name": "Python 3 (ipykernel)",
   "language": "python",
   "name": "python3"
  },
  "language_info": {
   "codemirror_mode": {
    "name": "ipython",
    "version": 3
   },
   "file_extension": ".py",
   "mimetype": "text/x-python",
   "name": "python",
   "nbconvert_exporter": "python",
   "pygments_lexer": "ipython3",
   "version": "3.10.9"
  }
 },
 "nbformat": 4,
 "nbformat_minor": 5
}
