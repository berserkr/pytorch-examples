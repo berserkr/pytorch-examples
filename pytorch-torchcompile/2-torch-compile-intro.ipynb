{
 "cells": [
  {
   "cell_type": "code",
   "execution_count": 5,
   "id": "a2e14a76-d475-4ae7-b481-3bf850e900d1",
   "metadata": {
    "tags": []
   },
   "outputs": [],
   "source": [
    "import torch\n",
    "from torch import nn"
   ]
  },
  {
   "cell_type": "code",
   "execution_count": 6,
   "id": "c5309297-5989-4dca-b61e-1dffe44992cd",
   "metadata": {
    "tags": []
   },
   "outputs": [],
   "source": [
    "def fn(x, y):\n",
    "    a = torch.sin(x)\n",
    "    b = torch.cos(y)\n",
    "    return a + b"
   ]
  },
  {
   "cell_type": "code",
   "execution_count": 7,
   "id": "c1457bc7-f536-4c3e-a3c0-3a9c62d622b7",
   "metadata": {
    "tags": []
   },
   "outputs": [
    {
     "name": "stdout",
     "output_type": "stream",
     "text": [
      "Writing FX graph to file: /pytorch-examples/torch_compile_debug/run_2023_03_09_21_59_43_229833-pid_8972/aot_torchinductor/model__2_forward_7.4/graph_diagram.svg\n"
     ]
    },
    {
     "name": "stderr",
     "output_type": "stream",
     "text": [
      "[2023-03-09 23:31:43,033] torch._inductor.debug: [WARNING] model__2_forward_7 debug trace: /pytorch-examples/torch_compile_debug/run_2023_03_09_21_59_43_229833-pid_8972/aot_torchinductor/model__2_forward_7.4\n"
     ]
    },
    {
     "name": "stdout",
     "output_type": "stream",
     "text": [
      "Writing FX graph to file: /pytorch-examples/torch_compile_debug/run_2023_03_09_21_59_43_229833-pid_8972/aot_torchinductor/model__2_backward_8.5/graph_diagram.svg\n"
     ]
    },
    {
     "name": "stderr",
     "output_type": "stream",
     "text": [
      "[2023-03-09 23:31:44,253] torch._inductor.debug: [WARNING] model__2_backward_8 debug trace: /pytorch-examples/torch_compile_debug/run_2023_03_09_21_59_43_229833-pid_8972/aot_torchinductor/model__2_backward_8.5\n"
     ]
    }
   ],
   "source": [
    "new_fn = torch.compile(fn, backend=\"inductor\", \n",
    "                       options={'trace.graph_diagram':True,\n",
    "                                'trace.enabled':True})\n",
    "\n",
    "input_tensor = torch.randn(10000, requires_grad=True)\n",
    "out = new_fn(input_tensor, input_tensor).sum().backward()"
   ]
  },
  {
   "cell_type": "code",
   "execution_count": 8,
   "id": "d3dd98c3-9d6e-4031-b4c8-75b462057ebe",
   "metadata": {
    "tags": []
   },
   "outputs": [],
   "source": [
    "from torch.fx import passes, symbolic_trace\n",
    "model = symbolic_trace(fn)\n",
    "\n",
    "g = passes.graph_drawer.FxGraphDrawer(model, 'fn')\n",
    "with open(\"unoptimized_graph.svg\", \"wb\") as f:\n",
    "    f.write(g.get_dot_graph().create_svg())"
   ]
  },
  {
   "cell_type": "code",
   "execution_count": null,
   "id": "05970749-293f-4060-b266-2c6a45a75a5a",
   "metadata": {},
   "outputs": [],
   "source": []
  }
 ],
 "metadata": {
  "kernelspec": {
   "display_name": "Python 3 (ipykernel)",
   "language": "python",
   "name": "python3"
  },
  "language_info": {
   "codemirror_mode": {
    "name": "ipython",
    "version": 3
   },
   "file_extension": ".py",
   "mimetype": "text/x-python",
   "name": "python",
   "nbconvert_exporter": "python",
   "pygments_lexer": "ipython3",
   "version": "3.10.9"
  }
 },
 "nbformat": 4,
 "nbformat_minor": 5
}
