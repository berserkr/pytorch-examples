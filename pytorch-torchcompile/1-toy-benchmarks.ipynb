{
 "cells": [
  {
   "cell_type": "code",
   "execution_count": 1,
   "id": "b33cbc31-dc42-4987-a9e2-513e31dd92de",
   "metadata": {
    "tags": []
   },
   "outputs": [],
   "source": [
    "import torch\n",
    "import time\n",
    "import os\n",
    "\n",
    "from torch import nn\n",
    "import torchvision.models as models\n",
    "from triton.testing import do_bench\n",
    "import torch._dynamo"
   ]
  },
  {
   "cell_type": "code",
   "execution_count": 2,
   "id": "9d742cd2-8f4b-40d5-a51e-36dacb9a11a0",
   "metadata": {
    "tags": []
   },
   "outputs": [],
   "source": [
    "torch.set_float32_matmul_precision('high')\n",
    "device = torch.device('cuda:0' if torch.cuda.is_available() else 'cpu')"
   ]
  },
  {
   "cell_type": "code",
   "execution_count": 3,
   "id": "98c588e4-db0c-4c73-8000-c51edad58d89",
   "metadata": {
    "tags": []
   },
   "outputs": [],
   "source": [
    "def run_benchmark(fn):\n",
    "    exec_time, prctl20, prctl80 = do_bench(fn,warmup=100,rep=1000)\n",
    "    print(f\"Exec time (median): {exec_time}\")\n",
    "    print(f\"Exec time (20th percentile): {prctl20}\")\n",
    "    print(f\"Exec time (80th percentile): {prctl80}\\n\")\n",
    "    return exec_time"
   ]
  },
  {
   "cell_type": "markdown",
   "id": "cbe00915-2f6e-4a45-b33e-b309dd549dae",
   "metadata": {},
   "source": [
    "## 1. ResNet50 Speedup on NVIDIA A10G"
   ]
  },
  {
   "cell_type": "code",
   "execution_count": 4,
   "id": "306dae3d-ad53-442a-a62f-70c18d8567fe",
   "metadata": {
    "tags": []
   },
   "outputs": [],
   "source": [
    "def run_batch(model, optimizer):\n",
    "    x = torch.randn(16, 3, 224, 224).to(device)\n",
    "    optimizer.zero_grad()\n",
    "    out = model(x)\n",
    "    out.sum().backward()\n",
    "    optimizer.step()"
   ]
  },
  {
   "cell_type": "code",
   "execution_count": 5,
   "id": "6e3d508d-75db-406b-92e2-6bedffd1510d",
   "metadata": {
    "tags": []
   },
   "outputs": [],
   "source": [
    "model = models.resnet50().to(device)"
   ]
  },
  {
   "cell_type": "code",
   "execution_count": 6,
   "id": "9d483ad8-2882-4ce5-a491-cb464b3e3bb5",
   "metadata": {
    "tags": []
   },
   "outputs": [
    {
     "name": "stdout",
     "output_type": "stream",
     "text": [
      "Resnet50 Eager mode\n",
      "Exec time (median): 50.48729705810547\n",
      "Exec time (20th percentile): 50.44060134887695\n",
      "Exec time (80th percentile): 50.53480911254883\n",
      "\n",
      "Resnet50 Compiled defaults\n",
      "Exec time (median): 46.86796569824219\n",
      "Exec time (20th percentile): 46.85209655761719\n",
      "Exec time (80th percentile): 46.89039611816406\n",
      "\n",
      "speedup:  7.72%\n"
     ]
    }
   ],
   "source": [
    "optimizer = torch.optim.SGD(model.parameters(), lr=0.01)\n",
    "\n",
    "# Benchmark Eager\n",
    "print(\"Resnet50 Eager mode\")\n",
    "exec_time = run_benchmark(lambda: run_batch(model, optimizer))\n",
    "\n",
    "# Benchmark torch.compile defaults\n",
    "print(\"Resnet50 Compiled defaults\")\n",
    "opt_model = torch.compile(model)\n",
    "opt_exec_time = run_benchmark(lambda: run_batch(opt_model, optimizer))\n",
    "\n",
    "# Print speedups\n",
    "print(f\"speedup: {100*(exec_time-opt_exec_time) / opt_exec_time: .2f}%\")"
   ]
  },
  {
   "cell_type": "markdown",
   "id": "fcd3add7-7c03-4559-9109-8443700febdf",
   "metadata": {},
   "source": [
    "## 2. Custom model Speedup on NVIDIA A10G"
   ]
  },
  {
   "cell_type": "code",
   "execution_count": 7,
   "id": "8ca833c0-d383-45ce-9f31-06b126539376",
   "metadata": {
    "tags": []
   },
   "outputs": [],
   "source": [
    "class MLP(nn.Module):\n",
    "    def __init__(self):\n",
    "        super().__init__()\n",
    "        self.fc1 = nn.Linear(1024, 1024)\n",
    "        self.fc2 = nn.Linear(1024, 1024)\n",
    "        \n",
    "    def forward(self, x):\n",
    "        x = self.fc1(x).relu() ** 2\n",
    "        return self.fc2(x).relu() ** 2"
   ]
  },
  {
   "cell_type": "code",
   "execution_count": 8,
   "id": "bc293b4a-6634-4e66-95f0-1675ab363114",
   "metadata": {
    "tags": []
   },
   "outputs": [],
   "source": [
    "model = MLP().to(device)\n",
    "x = torch.randn(1024, 1024).to(device)"
   ]
  },
  {
   "cell_type": "code",
   "execution_count": 10,
   "id": "020901c4-9054-4652-acaf-0232a31d0011",
   "metadata": {
    "tags": []
   },
   "outputs": [
    {
     "name": "stdout",
     "output_type": "stream",
     "text": [
      "Exec time (median): 0.7167999744415283\n",
      "Exec time (20th percentile): 0.7147520184516907\n",
      "Exec time (80th percentile): 0.7188479900360107\n",
      "\n",
      "Exec time (median): 0.6021119952201843\n",
      "Exec time (20th percentile): 0.6000639796257019\n",
      "Exec time (80th percentile): 0.6031360030174255\n",
      "\n",
      "speedup:  19.05%\n"
     ]
    }
   ],
   "source": [
    "# Benchmark Eager\n",
    "exec_time = run_benchmark(lambda: model(x).sum().backward())\n",
    "\n",
    "torch._dynamo.reset()\n",
    "# Benchmark torch.compile defaults\n",
    "cmodel = torch.compile(model, backend='inductor')\n",
    "opt_exec_time = run_benchmark(lambda: cmodel(x).sum().backward())\n",
    "\n",
    "# Print speedups\n",
    "print(f\"speedup: {100*(exec_time-opt_exec_time) / opt_exec_time: .2f}%\")"
   ]
  },
  {
   "cell_type": "markdown",
   "id": "49a00c44-c096-4ae8-afe8-7937db196933",
   "metadata": {},
   "source": [
    "## 3. HuggingFace model Speedup on NVIDIA A10G"
   ]
  },
  {
   "cell_type": "code",
   "execution_count": 11,
   "id": "d7a4eaae-8bc3-4a21-8147-a2d75e5fba3a",
   "metadata": {
    "tags": []
   },
   "outputs": [],
   "source": [
    "from transformers import Wav2Vec2Processor, Wav2Vec2ForCTC\n",
    "from datasets import load_dataset\n",
    "\n",
    "def run_inference(model, input_values):\n",
    "    \n",
    "    # retrieve logits\n",
    "    logits = model(input_values).logits\n",
    "    \n",
    "    # take argmax and decode\n",
    "    predicted_ids = torch.argmax(logits, dim=-1)\n",
    "    transcription = processor.batch_decode(predicted_ids)"
   ]
  },
  {
   "cell_type": "code",
   "execution_count": 12,
   "id": "76d00a8f-4503-4fa7-90cd-263f693097da",
   "metadata": {
    "tags": []
   },
   "outputs": [
    {
     "name": "stderr",
     "output_type": "stream",
     "text": [
      "Some weights of Wav2Vec2ForCTC were not initialized from the model checkpoint at facebook/wav2vec2-large-960h-lv60-self and are newly initialized: ['wav2vec2.masked_spec_embed']\n",
      "You should probably TRAIN this model on a down-stream task to be able to use it for predictions and inference.\n",
      "Found cached dataset librispeech_asr_dummy (/root/.cache/huggingface/datasets/patrickvonplaten___librispeech_asr_dummy/clean/2.1.0/f2c70a4d03ab4410954901bde48c54b85ca1b7f9bf7d616e7e2a72b5ee6ddbfc)\n",
      "It is strongly recommended to pass the ``sampling_rate`` argument to this function. Failing to do so can result in silent errors that might be hard to debug.\n"
     ]
    }
   ],
   "source": [
    "# load model and processor\n",
    "processor = Wav2Vec2Processor.from_pretrained(\"facebook/wav2vec2-large-960h-lv60-self\")\n",
    "model = Wav2Vec2ForCTC.from_pretrained(\"facebook/wav2vec2-large-960h-lv60-self\").cuda()\n",
    "\n",
    "# load dummy dataset and read soundfiles\n",
    "ds = load_dataset(\"patrickvonplaten/librispeech_asr_dummy\", \"clean\", split=\"validation\")\n",
    "\n",
    "# tokenize\n",
    "input_values = processor(ds[0][\"audio\"][\"array\"], return_tensors=\"pt\", padding=\"longest\").input_values.cuda()"
   ]
  },
  {
   "cell_type": "code",
   "execution_count": 13,
   "id": "92d5578e-e793-48c2-b043-0a77d25d71c4",
   "metadata": {
    "tags": []
   },
   "outputs": [
    {
     "name": "stdout",
     "output_type": "stream",
     "text": [
      "Exec time (median): 30.599727630615234\n",
      "Exec time (20th percentile): 30.556320190429688\n",
      "Exec time (80th percentile): 30.62679672241211\n",
      "\n",
      "Exec time (median): 28.694766998291016\n",
      "Exec time (20th percentile): 28.68025016784668\n",
      "Exec time (80th percentile): 28.719148635864258\n",
      "\n",
      "speedup:  6.64%\n"
     ]
    }
   ],
   "source": [
    "exec_time = run_benchmark(lambda: run_inference(model, input_values))\n",
    "\n",
    "torch._dynamo.reset()\n",
    "model = torch.compile(model, mode=\"max-autotune\")\n",
    "opt_exec_time = run_benchmark(lambda: run_inference(model, input_values))\n",
    "\n",
    "# Print speedups\n",
    "print(f\"speedup: {100*(exec_time-opt_exec_time) / opt_exec_time: .2f}%\")"
   ]
  },
  {
   "cell_type": "code",
   "execution_count": 14,
   "id": "6abb2e5a-966e-4e55-852b-a4c9f7eb03e9",
   "metadata": {},
   "outputs": [
    {
     "data": {
      "text/plain": [
       "['aot_ts_nvfuser',\n",
       " 'cudagraphs',\n",
       " 'inductor',\n",
       " 'ipex',\n",
       " 'nvprims_nvfuser',\n",
       " 'onnxrt',\n",
       " 'tvm']"
      ]
     },
     "execution_count": 14,
     "metadata": {},
     "output_type": "execute_result"
    }
   ],
   "source": [
    "torch._dynamo.list_backends()"
   ]
  },
  {
   "cell_type": "code",
   "execution_count": null,
   "id": "b35a7fc2-571d-4557-9744-43fb2b13f3fa",
   "metadata": {},
   "outputs": [],
   "source": []
  }
 ],
 "metadata": {
  "kernelspec": {
   "display_name": "Python 3 (ipykernel)",
   "language": "python",
   "name": "python3"
  },
  "language_info": {
   "codemirror_mode": {
    "name": "ipython",
    "version": 3
   },
   "file_extension": ".py",
   "mimetype": "text/x-python",
   "name": "python",
   "nbconvert_exporter": "python",
   "pygments_lexer": "ipython3",
   "version": "3.10.9"
  }
 },
 "nbformat": 4,
 "nbformat_minor": 5
}
