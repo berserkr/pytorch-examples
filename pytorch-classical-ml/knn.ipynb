{
 "cells": [
  {
   "cell_type": "code",
   "execution_count": 1,
   "id": "9f2dffda-d6cc-42e7-862d-764805bd5b38",
   "metadata": {
    "tags": []
   },
   "outputs": [
    {
     "data": {
      "text/plain": [
       "device(type='cuda')"
      ]
     },
     "execution_count": 1,
     "metadata": {},
     "output_type": "execute_result"
    }
   ],
   "source": [
    "import torch\n",
    "import torch._dynamo\n",
    "device = torch.device(\"cuda\") if torch.cuda.is_available() else \"cpu\"\n",
    "device"
   ]
  },
  {
   "cell_type": "code",
   "execution_count": 2,
   "id": "625b23d6-9635-4141-9827-a51a9631bbd0",
   "metadata": {
    "tags": []
   },
   "outputs": [],
   "source": [
    "def knn(x,k):\n",
    "    rows = x.shape[0]\n",
    "    idx = torch.arange(0,rows)\n",
    "    comb = torch.combinations(idx,2)\n",
    "\n",
    "    norms = torch.zeros(comb.shape[0])\n",
    "    for i, pair in enumerate(comb):\n",
    "        norms[i] = torch.linalg.vector_norm(x[pair[0]] - x[pair[1]])\n",
    "    return torch.topk(-norms, k).values.negative()"
   ]
  },
  {
   "cell_type": "code",
   "execution_count": 3,
   "id": "8123de73-d9a6-4214-aaf4-98f31809bab9",
   "metadata": {
    "tags": []
   },
   "outputs": [
    {
     "name": "stdout",
     "output_type": "stream",
     "text": [
      "CPU times: user 7.56 s, sys: 58.6 ms, total: 7.62 s\n",
      "Wall time: 7.46 s\n"
     ]
    },
    {
     "data": {
      "text/plain": [
       "tensor([5.2996, 5.6529])"
      ]
     },
     "execution_count": 3,
     "metadata": {},
     "output_type": "execute_result"
    }
   ],
   "source": [
    "k = 2\n",
    "x = torch.randn(1000,50)\n",
    "%time knn(x,k)"
   ]
  },
  {
   "cell_type": "code",
   "execution_count": 4,
   "id": "30e09d7b-66ad-4468-b427-38f77dc7eff1",
   "metadata": {
    "tags": []
   },
   "outputs": [],
   "source": [
    "def neighbor_dist(x):\n",
    "    rows = x.shape[0]\n",
    "    idx = torch.arange(0,rows)\n",
    "    nchoose2 = int(0.5*rows*(rows-1))\n",
    "        \n",
    "    dist_squared = torch.zeros(nchoose2).to(device)\n",
    "    \n",
    "    counter=0\n",
    "    for i in range(rows):\n",
    "        for j in range(i,rows):\n",
    "            if i == j:\n",
    "                continue\n",
    "            dist_squared[counter] = torch.sum((x[i] - x[j])**2)\n",
    "            counter+=1\n",
    "    return dist_squared"
   ]
  },
  {
   "cell_type": "code",
   "execution_count": 5,
   "id": "17208f82-a117-4607-bfb9-072fceea3609",
   "metadata": {
    "tags": []
   },
   "outputs": [],
   "source": [
    "torch._dynamo.reset()\n",
    "# torch._dynamo.config.dynamic_shapes = True\n",
    "neighbor_dist_opt = torch.compile(neighbor_dist, backend=\"inductor\", \n",
    "                        options={'trace.enabled':False})"
   ]
  },
  {
   "cell_type": "code",
   "execution_count": 6,
   "id": "b0cd1bf0-6e49-4141-9989-c80779bbad11",
   "metadata": {
    "tags": []
   },
   "outputs": [],
   "source": [
    "x = torch.randn(1000,50)"
   ]
  },
  {
   "cell_type": "code",
   "execution_count": null,
   "id": "a87de11c-1bc8-4763-a81f-a57432bbb38d",
   "metadata": {
    "tags": []
   },
   "outputs": [],
   "source": [
    "%%time\n",
    "dist_squared = neighbor_dist_opt(x.detach().to(device))\n",
    "torch.topk(-dist_squared, k).values.negative()"
   ]
  },
  {
   "cell_type": "code",
   "execution_count": 15,
   "id": "ad61dd1e-507d-4686-b4ff-6fe115bc8c4c",
   "metadata": {
    "tags": []
   },
   "outputs": [
    {
     "data": {
      "text/plain": [
       "tensor([ 79.5146, 104.3157,  68.3868,  ..., 120.3970,  78.6523, 109.0322],\n",
       "       device='cuda:0')"
      ]
     },
     "execution_count": 15,
     "metadata": {},
     "output_type": "execute_result"
    }
   ],
   "source": [
    "neighbor_dist_opt(x.detach().to(device))\n"
   ]
  },
  {
   "cell_type": "code",
   "execution_count": null,
   "id": "2f037a20-3142-4e9d-8187-a1af9243a797",
   "metadata": {},
   "outputs": [],
   "source": []
  }
 ],
 "metadata": {
  "kernelspec": {
   "display_name": "Python 3 (ipykernel)",
   "language": "python",
   "name": "python3"
  },
  "language_info": {
   "codemirror_mode": {
    "name": "ipython",
    "version": 3
   },
   "file_extension": ".py",
   "mimetype": "text/x-python",
   "name": "python",
   "nbconvert_exporter": "python",
   "pygments_lexer": "ipython3",
   "version": "3.10.9"
  }
 },
 "nbformat": 4,
 "nbformat_minor": 5
}
