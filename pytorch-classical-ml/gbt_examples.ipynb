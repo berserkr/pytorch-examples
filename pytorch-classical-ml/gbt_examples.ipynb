{
 "cells": [
  {
   "cell_type": "code",
   "execution_count": 1,
   "id": "f4d35b80-8023-4b70-b218-d12846ea22f2",
   "metadata": {
    "tags": []
   },
   "outputs": [],
   "source": [
    "from xgboost import XGBClassifier\n",
    "# read data\n",
    "import regex as re\n",
    "\n",
    "from sklearn.datasets import load_iris\n",
    "from sklearn.model_selection import train_test_split\n",
    "data = load_iris()\n",
    "X_train, X_test, y_train, y_test = train_test_split(data['data'], data['target'], test_size=.2)\n",
    "# create model instance\n",
    "bst = XGBClassifier(n_estimators=2, max_depth=2, learning_rate=1, objective='binary:logistic')\n",
    "# fit model\n",
    "bst.fit(X_train, y_train)\n",
    "# make predictions\n",
    "preds = bst.predict(X_test)\n"
   ]
  },
  {
   "cell_type": "code",
   "execution_count": 2,
   "id": "df8198ad-403b-41ab-88a4-88f2da5b91e4",
   "metadata": {
    "tags": []
   },
   "outputs": [],
   "source": [
    "def string_parser(s):\n",
    "    if len(re.findall(r\":leaf=\", s)) == 0:\n",
    "        out  = re.findall(r\"[\\w.-]+\", s)\n",
    "        tabs = re.findall(r\"[\\t]+\", s)\n",
    "        if (out[4] == out[8]):\n",
    "            missing_value_handling = (\" or np.isnan(x['\" + out[1] + \"']) \")\n",
    "        else:\n",
    "            missing_value_handling = \"\"\n",
    "            \n",
    "        if len(tabs) > 0:\n",
    "            return (re.findall(r\"[\\t]+\", s)[0].replace('\\t', '    ') + \n",
    "                    '        if state == ' + out[0] + ':\\n' +\n",
    "                    re.findall(r\"[\\t]+\", s)[0].replace('\\t', '    ') +\n",
    "                    '            state = (' + out[4] +  \n",
    "                    ' if ' +  \"x['\" + out[1] +\"']<\" + out[2] + missing_value_handling + \n",
    "                    ' else ' + out[6] + ')\\n' )\n",
    "        \n",
    "        else:\n",
    "            return ('        if state == ' + out[0] + ':\\n' +\n",
    "                    '            state = (' + out[4] +  \n",
    "                    ' if ' +  \"x['\" + out[1] +\"']<\" + out[2] + missing_value_handling +\n",
    "                    ' else ' + out[6] + ')\\n' )\n",
    "    else:\n",
    "        out = re.findall(r\"[\\d.-]+\", s)\n",
    "        return (re.findall(r\"[\\t]+\", s)[0].replace('\\t', '    ') + \n",
    "                '        if state == ' + out[0] + ':\\n    ' +\n",
    "                re.findall(r\"[\\t]+\", s)[0].replace('\\t', '    ') + \n",
    "                '        return ' + out[1] + '\\n')\n",
    "      \n",
    "def tree_parser(tree, i):\n",
    "    if i == 0:\n",
    "        return ('    if num_booster == 0:\\n        state = 0\\n'\n",
    "             + \"\".join([string_parser(tree.split('\\n')[i]) \n",
    "                        for i in range(len(tree.split('\\n'))-1)]))\n",
    "    else:\n",
    "        return ('    elif num_booster == '+str(i)+':\\n        state = 0\\n'\n",
    "             + \"\".join([string_parser(tree.split('\\n')[i]) \n",
    "                        for i in range(len(tree.split('\\n'))-1)])) \n",
    "    \n",
    "def model_to_py(base_score, model, out_file):\n",
    "    trees = model.get_booster().get_dump()\n",
    "    result = [\"import numpy as np\\n\\n\" \n",
    "             +\"def xgb_tree(x, num_booster):\\n\"]\n",
    "    \n",
    "    for i in range(len(trees)):\n",
    "        result.append(tree_parser(trees[i], i))\n",
    "    \n",
    "    with open(out_file, 'a') as the_file:\n",
    "        the_file.write(\"\".join(result) + \"\\ndef xgb_predict(x):\\n    predict = \" \n",
    "                       + str(base_score) + \"\\n\"\n",
    "                       + \"# initialize prediction with base score\\n\" \n",
    "                       + \"    for i in range(\" \n",
    "                       + str(len(trees))  \n",
    "                       + \"):\\n        predict = predict + xgb_tree(x, i)\"\n",
    "                       + \"\\n    return predict\")"
   ]
  },
  {
   "cell_type": "code",
   "execution_count": 3,
   "id": "a20086f8-b379-46cf-9408-69daa7d72059",
   "metadata": {
    "tags": []
   },
   "outputs": [],
   "source": [
    "# df = gb.trees_to_dataframe()\n",
    "params = bst.get_params()\n",
    "model_to_py(params['base_score'], bst, 'xgb_model.py')"
   ]
  },
  {
   "cell_type": "code",
   "execution_count": 17,
   "id": "00d8a9f6-f470-4572-9df8-cc76ceedf40e",
   "metadata": {
    "tags": []
   },
   "outputs": [
    {
     "data": {
      "text/plain": [
       "0.913"
      ]
     },
     "execution_count": 17,
     "metadata": {},
     "output_type": "execute_result"
    }
   ],
   "source": [
    "from sklearn.datasets import make_hastie_10_2\n",
    "from sklearn.ensemble import GradientBoostingClassifier\n",
    "\n",
    "X, y = make_hastie_10_2(random_state=0)\n",
    "X_train, X_test = X[:2000], X[2000:]\n",
    "y_train, y_test = y[:2000], y[2000:]\n",
    "clf = GradientBoostingClassifier(n_estimators=100, learning_rate=1.0,\n",
    "    max_depth=1, random_state=0).fit(X_train, y_train)\n",
    "clf.score(X_test, y_test)"
   ]
  },
  {
   "cell_type": "code",
   "execution_count": 20,
   "id": "13c37d9b-636b-41bf-9bcc-341691d54f79",
   "metadata": {
    "tags": []
   },
   "outputs": [
    {
     "data": {
      "text/plain": [
       "{'ccp_alpha': 0.0,\n",
       " 'criterion': 'friedman_mse',\n",
       " 'init': None,\n",
       " 'learning_rate': 1.0,\n",
       " 'loss': 'log_loss',\n",
       " 'max_depth': 1,\n",
       " 'max_features': None,\n",
       " 'max_leaf_nodes': None,\n",
       " 'min_impurity_decrease': 0.0,\n",
       " 'min_samples_leaf': 1,\n",
       " 'min_samples_split': 2,\n",
       " 'min_weight_fraction_leaf': 0.0,\n",
       " 'n_estimators': 100,\n",
       " 'n_iter_no_change': None,\n",
       " 'random_state': 0,\n",
       " 'subsample': 1.0,\n",
       " 'tol': 0.0001,\n",
       " 'validation_fraction': 0.1,\n",
       " 'verbose': 0,\n",
       " 'warm_start': False}"
      ]
     },
     "execution_count": 20,
     "metadata": {},
     "output_type": "execute_result"
    }
   ],
   "source": [
    "clf.get_params"
   ]
  },
  {
   "cell_type": "code",
   "execution_count": null,
   "id": "4f05ebf2-1932-40ec-af95-4e7b1f4cfd48",
   "metadata": {},
   "outputs": [],
   "source": []
  }
 ],
 "metadata": {
  "kernelspec": {
   "display_name": "Python 3 (ipykernel)",
   "language": "python",
   "name": "python3"
  },
  "language_info": {
   "codemirror_mode": {
    "name": "ipython",
    "version": 3
   },
   "file_extension": ".py",
   "mimetype": "text/x-python",
   "name": "python",
   "nbconvert_exporter": "python",
   "pygments_lexer": "ipython3",
   "version": "3.10.9"
  }
 },
 "nbformat": 4,
 "nbformat_minor": 5
}
