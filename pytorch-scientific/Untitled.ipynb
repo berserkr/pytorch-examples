{
 "cells": [
  {
   "cell_type": "code",
   "execution_count": 35,
   "id": "3c5e7add-3c35-4705-8f4b-a17313c282ac",
   "metadata": {},
   "outputs": [],
   "source": [
    "import torch\n",
    "torch.set_printoptions(sci_mode=False)"
   ]
  },
  {
   "cell_type": "code",
   "execution_count": 28,
   "id": "f8eb26ee-ff5b-4033-b6a1-4490eb7eab5c",
   "metadata": {},
   "outputs": [
    {
     "name": "stdout",
     "output_type": "stream",
     "text": [
      "A:tensor([[1., 3., 0., 2.],\n",
      "        [0., 0., 1., 4.],\n",
      "        [1., 3., 1., 6.]])\n",
      "b:tensor([[1.],\n",
      "        [6.],\n",
      "        [7.]])\n",
      "tensor([[1., 3., 0., 2.],\n",
      "        [0., 0., 1., 4.],\n",
      "        [1., 3., 1., 6.]])\n"
     ]
    }
   ],
   "source": [
    "A = torch.tensor(([1,3,0,2],[0,0,1,4],[1,3,1,6]),dtype=torch.float)\n",
    "b = torch.tensor([1,6,7],dtype=torch.float).reshape(-1,1)\n",
    "print(f'A:{A}')\n",
    "print(f'b:{b}')"
   ]
  },
  {
   "cell_type": "code",
   "execution_count": 30,
   "id": "c9c5a0fc-4946-4029-aef1-dd6bcf5d6f8c",
   "metadata": {},
   "outputs": [
    {
     "data": {
      "text/plain": [
       "torch.return_types.linalg_lstsq(\n",
       "solution=tensor([[0.1524],\n",
       "        [0.4571],\n",
       "        [0.0762],\n",
       "        [0.6095]]),\n",
       "residuals=tensor([]),\n",
       "rank=tensor(1),\n",
       "singular_values=tensor([]))"
      ]
     },
     "execution_count": 30,
     "metadata": {},
     "output_type": "execute_result"
    }
   ],
   "source": [
    "sol = torch.linalg.lstsq(A,b)\n",
    "sol"
   ]
  },
  {
   "cell_type": "code",
   "execution_count": 37,
   "id": "cf2255f3-501f-45cf-b98f-33562a5bafbb",
   "metadata": {},
   "outputs": [
    {
     "name": "stdout",
     "output_type": "stream",
     "text": [
      "torch.return_types.linalg_svd(\n",
      "U=tensor([[-0.3788, -0.7233, -0.5774],\n",
      "        [-0.4370,  0.6897, -0.5774],\n",
      "        [-0.8158, -0.0336,  0.5774]]),\n",
      "S=tensor([    8.4028,     2.7190,     0.0000]),\n",
      "Vh=tensor([[-0.1422, -0.4265, -0.1491, -0.8807],\n",
      "        [-0.2784, -0.8351,  0.2413,  0.4085],\n",
      "        [-0.9326,  0.3333,  0.1346, -0.0337],\n",
      "        [-0.1807, -0.0980, -0.9494,  0.2374]]))\n",
      "Null space:\n"
     ]
    },
    {
     "data": {
      "text/plain": [
       "tensor([[-0.9326, -0.1807],\n",
       "        [ 0.3333, -0.0980],\n",
       "        [ 0.1346, -0.9494],\n",
       "        [-0.0337,  0.2374]])"
      ]
     },
     "execution_count": 37,
     "metadata": {},
     "output_type": "execute_result"
    }
   ],
   "source": [
    "A_svd = torch.linalg.svd(A,full_matrices= True)\n",
    "print(A_svd)\n",
    "nA = A_svd.Vh[-2:,:].t()\n",
    "print('Null space:')\n",
    "nA"
   ]
  },
  {
   "cell_type": "code",
   "execution_count": 36,
   "id": "15754d85-31a4-4ad0-ad3b-d7b64bf32432",
   "metadata": {},
   "outputs": [
    {
     "data": {
      "text/plain": [
       "tensor([[     0.0000,      0.0000],\n",
       "        [    -0.0000,      0.0000],\n",
       "        [    -0.0000,      0.0000]])"
      ]
     },
     "execution_count": 36,
     "metadata": {},
     "output_type": "execute_result"
    }
   ],
   "source": [
    "A@nA"
   ]
  },
  {
   "cell_type": "code",
   "execution_count": null,
   "id": "91124ed0-3ebd-4801-b490-b65e8b115f55",
   "metadata": {},
   "outputs": [],
   "source": []
  }
 ],
 "metadata": {
  "kernelspec": {
   "display_name": "Python 3 (ipykernel)",
   "language": "python",
   "name": "python3"
  },
  "language_info": {
   "codemirror_mode": {
    "name": "ipython",
    "version": 3
   },
   "file_extension": ".py",
   "mimetype": "text/x-python",
   "name": "python",
   "nbconvert_exporter": "python",
   "pygments_lexer": "ipython3",
   "version": "3.10.9"
  }
 },
 "nbformat": 4,
 "nbformat_minor": 5
}
