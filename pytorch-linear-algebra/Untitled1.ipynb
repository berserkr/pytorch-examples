{
 "cells": [
  {
   "cell_type": "code",
   "execution_count": 20,
   "id": "26c2ccfb-2d02-4936-a28b-5f3276a7e8db",
   "metadata": {
    "tags": []
   },
   "outputs": [
    {
     "name": "stdout",
     "output_type": "stream",
     "text": [
      "Estimate: tensor(3.14159274101257324219)\n",
      "Actual:   3.141592653589793\n"
     ]
    }
   ],
   "source": [
    "import torch\n",
    "import math\n",
    "import decimal\n",
    "torch.set_printoptions(precision=20)\n",
    "\n",
    "def ramanujan_sato():\n",
    "    one_over_pi=0\n",
    "    for k in range(0, 4):\n",
    "        numerator = torch.ops.aten.factorial(k*4)*(26390*k + 1103)\n",
    "        denominator = torch.pow(torch.tensor(torch.ops.aten.factorial(k)),4)*torch.pow(torch.tensor(396),4*k)\n",
    "        one_over_pi += numerator / denominator\n",
    "\n",
    "    one_over_pi = one_over_pi*2*math.sqrt(2)/math.pow(99,2)\n",
    "    print(\"Estimate: \" + str(1/one_over_pi))\n",
    "    print(\"Actual:   \" + str(math.pi))\n",
    "\n",
    "ramanujan_sato()"
   ]
  },
  {
   "cell_type": "code",
   "execution_count": 10,
   "id": "328b0f46-c053-4a60-bb74-2a0aac47e96e",
   "metadata": {
    "tags": []
   },
   "outputs": [
    {
     "data": {
      "text/plain": [
       "int"
      ]
     },
     "execution_count": 10,
     "metadata": {},
     "output_type": "execute_result"
    }
   ],
   "source": [
    "k = 1\n",
    "a = torch.ops.aten.factorial(k*4)*(26390*k + 1103)\n",
    "type(a)"
   ]
  }
 ],
 "metadata": {
  "kernelspec": {
   "display_name": "Python 3 (ipykernel)",
   "language": "python",
   "name": "python3"
  },
  "language_info": {
   "codemirror_mode": {
    "name": "ipython",
    "version": 3
   },
   "file_extension": ".py",
   "mimetype": "text/x-python",
   "name": "python",
   "nbconvert_exporter": "python",
   "pygments_lexer": "ipython3",
   "version": "3.10.9"
  }
 },
 "nbformat": 4,
 "nbformat_minor": 5
}
