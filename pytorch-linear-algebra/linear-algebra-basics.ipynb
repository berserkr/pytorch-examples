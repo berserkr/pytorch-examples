{
 "cells": [
  {
   "cell_type": "code",
   "execution_count": 1,
   "id": "70637b96-ff94-42cd-8c7e-6124e8ebe73b",
   "metadata": {},
   "outputs": [],
   "source": [
    "import torch\n",
    "import torch.linalg as tla\n",
    "torch.set_printoptions(sci_mode=True)"
   ]
  },
  {
   "cell_type": "code",
   "execution_count": 2,
   "id": "029ebd7d-2a22-43eb-b75a-5cde7ad9a35c",
   "metadata": {},
   "outputs": [
    {
     "name": "stdout",
     "output_type": "stream",
     "text": [
      "tensor([[2.0000e+00, 4.0000e+00],\n",
      "        [4.0000e+00, 8.0000e+00]])\n",
      "Rank: 1\n"
     ]
    }
   ],
   "source": [
    "# A = torch.tensor([[1,2,4],[1,4,8]],dtype=torch.float)\n",
    "A = torch.tensor([[2,4],[4,8]],dtype=torch.float)\n",
    "\n",
    "print(A)\n",
    "print(f'Rank: {tla.matrix_rank(A)}')"
   ]
  },
  {
   "cell_type": "code",
   "execution_count": 3,
   "id": "202e6e57-1c18-43d5-81a9-19b8833a06c2",
   "metadata": {},
   "outputs": [
    {
     "name": "stdout",
     "output_type": "stream",
     "text": [
      "Null space:\n"
     ]
    },
    {
     "data": {
      "text/plain": [
       "tensor([[-8.9443e-01],\n",
       "        [4.4721e-01]])"
      ]
     },
     "execution_count": 3,
     "metadata": {},
     "output_type": "execute_result"
    }
   ],
   "source": [
    "A_svd = tla.svd(A,full_matrices= True)\n",
    "nA = A_svd.Vh.t()[:,-1].reshape(-1,1)\n",
    "print('Null space:')\n",
    "nA"
   ]
  },
  {
   "cell_type": "code",
   "execution_count": 4,
   "id": "fd2d7a88-0ef0-43d2-8106-b2d0d049f017",
   "metadata": {},
   "outputs": [
    {
     "data": {
      "text/plain": [
       "tensor([[2.3842e-07],\n",
       "        [4.7684e-07]])"
      ]
     },
     "execution_count": 4,
     "metadata": {},
     "output_type": "execute_result"
    }
   ],
   "source": [
    "A@nA"
   ]
  },
  {
   "cell_type": "code",
   "execution_count": 5,
   "id": "958a050d-4018-4b71-bfaf-cb7727661db2",
   "metadata": {},
   "outputs": [
    {
     "data": {
      "text/plain": [
       "tensor([[2.2037e-01],\n",
       "        [8.7207e-01]])"
      ]
     },
     "execution_count": 5,
     "metadata": {},
     "output_type": "execute_result"
    }
   ],
   "source": [
    "b = torch.rand(2,1)\n",
    "b"
   ]
  },
  {
   "cell_type": "code",
   "execution_count": 6,
   "id": "7d0a9e87-67b5-48c4-8560-c23b8e6c588f",
   "metadata": {},
   "outputs": [
    {
     "name": "stdout",
     "output_type": "stream",
     "text": [
      "tensor([[3.9290e-02],\n",
      "        [7.8580e-02]])\n",
      "tensor(8.7855e-02)\n"
     ]
    }
   ],
   "source": [
    "x = torch.linalg.lstsq(A,b).solution\n",
    "print(x)\n",
    "print(x.norm())"
   ]
  },
  {
   "cell_type": "code",
   "execution_count": 7,
   "id": "c52b6487-97fe-4450-a959-ae30917f9df1",
   "metadata": {},
   "outputs": [
    {
     "name": "stdout",
     "output_type": "stream",
     "text": [
      "A @ x:\n",
      "tensor([[3.9290e-01],\n",
      "        [7.8580e-01]])\n",
      "A @ (x + alpha*nA)\n",
      "tensor([[3.9290e-01],\n",
      "        [7.8580e-01]])\n"
     ]
    }
   ],
   "source": [
    "print('A @ x:')\n",
    "print(A@x)\n",
    "print('A @ (x + alpha*nA)')\n",
    "print(A@(x+torch.rand(1)*nA))"
   ]
  },
  {
   "cell_type": "code",
   "execution_count": 10,
   "id": "03d4941c-e462-48d0-a08b-ecdb8887afbc",
   "metadata": {},
   "outputs": [
    {
     "name": "stdout",
     "output_type": "stream",
     "text": [
      "tensor([[   6.0483e+06,   -3.0242e+06],\n",
      "        [  -3.0242e+06,    1.5121e+06]])\n"
     ]
    },
    {
     "data": {
      "text/plain": [
       "tensor([[  -1.3044e+06],\n",
       "        [   6.5222e+05]])"
      ]
     },
     "execution_count": 10,
     "metadata": {},
     "output_type": "execute_result"
    }
   ],
   "source": [
    "A_pinv = A.pinverse()\n",
    "print(A_pinv)\n",
    "x_pinv = A.pinverse()@b\n",
    "x_pinv"
   ]
  },
  {
   "cell_type": "code",
   "execution_count": 9,
   "id": "cce02263-e034-4350-b885-121ddb51b8bd",
   "metadata": {},
   "outputs": [
    {
     "data": {
      "text/plain": [
       "tensor([[1.0000e+00],\n",
       "        [2.0000e+00]])"
      ]
     },
     "execution_count": 9,
     "metadata": {},
     "output_type": "execute_result"
    }
   ],
   "source": [
    "A@x_pinv"
   ]
  }
 ],
 "metadata": {
  "kernelspec": {
   "display_name": "pytorch2:Python",
   "language": "python",
   "name": "conda-env-pytorch2-py"
  },
  "language_info": {
   "codemirror_mode": {
    "name": "ipython",
    "version": 3
   },
   "file_extension": ".py",
   "mimetype": "text/x-python",
   "name": "python",
   "nbconvert_exporter": "python",
   "pygments_lexer": "ipython3",
   "version": "3.9.16"
  }
 },
 "nbformat": 4,
 "nbformat_minor": 5
}
